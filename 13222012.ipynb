{
 "cells": [
  {
   "cell_type": "markdown",
   "metadata": {},
   "source": [
    "Nama    : Randy Revaldo Pratama<br/>\n",
    "NIM     : 13222012 <br/>\n",
    "Data Analysis dengan python sesuai dengan dataset yang didapatkan"
   ]
  },
  {
   "cell_type": "code",
   "execution_count": 235,
   "metadata": {},
   "outputs": [],
   "source": [
    "import numpy as np \n",
    "import pandas as pd\n",
    "import matplotlib.pyplot as plt\n",
    "import scipy.stats as st \n",
    "import statsmodels.api\n",
    "import statsmodels.stats as sm"
   ]
  },
  {
   "cell_type": "code",
   "execution_count": 106,
   "metadata": {},
   "outputs": [
    {
     "data": {
      "text/html": [
       "<div>\n",
       "<style scoped>\n",
       "    .dataframe tbody tr th:only-of-type {\n",
       "        vertical-align: middle;\n",
       "    }\n",
       "\n",
       "    .dataframe tbody tr th {\n",
       "        vertical-align: top;\n",
       "    }\n",
       "\n",
       "    .dataframe thead th {\n",
       "        text-align: right;\n",
       "    }\n",
       "</style>\n",
       "<table border=\"1\" class=\"dataframe\">\n",
       "  <thead>\n",
       "    <tr style=\"text-align: right;\">\n",
       "      <th></th>\n",
       "      <th>Jenis Kelamin</th>\n",
       "      <th>Usia</th>\n",
       "      <th>Pendidikan Terakhir</th>\n",
       "      <th>Pekerjaan</th>\n",
       "      <th>Penghasilan per Bulan</th>\n",
       "      <th>Domisili</th>\n",
       "      <th>Durasi Penggunaan Internet per Hari (dalam Jam)</th>\n",
       "      <th>Aktivitas Online Meningkat</th>\n",
       "      <th>Aktivitas yang Meningkat dalam 3 Bulan Terakhir</th>\n",
       "      <th>layanan_aktif_1</th>\n",
       "      <th>...</th>\n",
       "      <th>cara_pembayaran_belanja_online_5</th>\n",
       "      <th>cara_pembayaran_belanja_online_6</th>\n",
       "      <th>cara_pembayaran_belanja_online_7</th>\n",
       "      <th>cara_pembayaran_belanja_online_8</th>\n",
       "      <th>keluhan_belanja_online_1</th>\n",
       "      <th>keluhan_belanja_online_2</th>\n",
       "      <th>keluhan_belanja_online_3</th>\n",
       "      <th>keluhan_belanja_online_4</th>\n",
       "      <th>keluhan_belanja_online_5</th>\n",
       "      <th>keluhan_belanja_online_6</th>\n",
       "    </tr>\n",
       "  </thead>\n",
       "  <tbody>\n",
       "    <tr>\n",
       "      <th>0</th>\n",
       "      <td>Pria</td>\n",
       "      <td>32</td>\n",
       "      <td>S1</td>\n",
       "      <td>Karyawan Swasta</td>\n",
       "      <td>&gt; Rp 10 juta</td>\n",
       "      <td>Tangerang</td>\n",
       "      <td>1600%</td>\n",
       "      <td>Sama saja</td>\n",
       "      <td>sama aja</td>\n",
       "      <td>Mobile Banking</td>\n",
       "      <td>...</td>\n",
       "      <td>NaN</td>\n",
       "      <td>NaN</td>\n",
       "      <td>NaN</td>\n",
       "      <td>menggunakan fitur Paylater</td>\n",
       "      <td>NaN</td>\n",
       "      <td>Barang rusak/ salah tetapi tidak dapat dikemba...</td>\n",
       "      <td>NaN</td>\n",
       "      <td>NaN</td>\n",
       "      <td>Pembayaran telah dilakukan tetapi tidak terdet...</td>\n",
       "      <td>Saldo eMoney/ eWallet berkurang tanpa melakuka...</td>\n",
       "    </tr>\n",
       "    <tr>\n",
       "      <th>1</th>\n",
       "      <td>Pria</td>\n",
       "      <td>14</td>\n",
       "      <td>SMP</td>\n",
       "      <td>Pelajar / Mahasiswa</td>\n",
       "      <td>&lt; Rp 2 juta</td>\n",
       "      <td>Depok</td>\n",
       "      <td>NaN</td>\n",
       "      <td>Ya</td>\n",
       "      <td>Akses media sosial</td>\n",
       "      <td>NaN</td>\n",
       "      <td>...</td>\n",
       "      <td>NaN</td>\n",
       "      <td>NaN</td>\n",
       "      <td>NaN</td>\n",
       "      <td>NaN</td>\n",
       "      <td>Barang yang diperoleh tidak sesuai dengan spes...</td>\n",
       "      <td>Barang rusak/ salah tetapi tidak dapat dikemba...</td>\n",
       "      <td>NaN</td>\n",
       "      <td>NaN</td>\n",
       "      <td>Pembayaran telah dilakukan tetapi tidak terdet...</td>\n",
       "      <td>NaN</td>\n",
       "    </tr>\n",
       "    <tr>\n",
       "      <th>2</th>\n",
       "      <td>Wanita</td>\n",
       "      <td>18</td>\n",
       "      <td>S1</td>\n",
       "      <td>Pelajar / Mahasiswa</td>\n",
       "      <td>&lt; Rp 2 juta</td>\n",
       "      <td>Bandung</td>\n",
       "      <td>NaN</td>\n",
       "      <td>Ya</td>\n",
       "      <td>Mengikuti kelas online</td>\n",
       "      <td>Mobile Banking</td>\n",
       "      <td>...</td>\n",
       "      <td>NaN</td>\n",
       "      <td>NaN</td>\n",
       "      <td>NaN</td>\n",
       "      <td>NaN</td>\n",
       "      <td>Barang yang diperoleh tidak sesuai dengan spes...</td>\n",
       "      <td>Barang rusak/ salah tetapi tidak dapat dikemba...</td>\n",
       "      <td>NaN</td>\n",
       "      <td>NaN</td>\n",
       "      <td>NaN</td>\n",
       "      <td>NaN</td>\n",
       "    </tr>\n",
       "    <tr>\n",
       "      <th>3</th>\n",
       "      <td>Wanita</td>\n",
       "      <td>21</td>\n",
       "      <td>SMA</td>\n",
       "      <td>Pelajar / Mahasiswa</td>\n",
       "      <td>&lt; Rp 2 juta</td>\n",
       "      <td>Purbalingga</td>\n",
       "      <td>600%</td>\n",
       "      <td>Sama saja</td>\n",
       "      <td>NaN</td>\n",
       "      <td>Mobile Banking</td>\n",
       "      <td>...</td>\n",
       "      <td>NaN</td>\n",
       "      <td>NaN</td>\n",
       "      <td>NaN</td>\n",
       "      <td>NaN</td>\n",
       "      <td>Barang yang diperoleh tidak sesuai dengan spes...</td>\n",
       "      <td>NaN</td>\n",
       "      <td>NaN</td>\n",
       "      <td>NaN</td>\n",
       "      <td>Pembayaran telah dilakukan tetapi tidak terdet...</td>\n",
       "      <td>NaN</td>\n",
       "    </tr>\n",
       "    <tr>\n",
       "      <th>4</th>\n",
       "      <td>Pria</td>\n",
       "      <td>19</td>\n",
       "      <td>S1</td>\n",
       "      <td>Pelajar / Mahasiswa</td>\n",
       "      <td>&lt; Rp 2 juta</td>\n",
       "      <td>Bekasi</td>\n",
       "      <td>NaN</td>\n",
       "      <td>Sama saja</td>\n",
       "      <td>NaN</td>\n",
       "      <td>Mobile Banking</td>\n",
       "      <td>...</td>\n",
       "      <td>Transfer via ATM</td>\n",
       "      <td>NaN</td>\n",
       "      <td>NaN</td>\n",
       "      <td>NaN</td>\n",
       "      <td>NaN</td>\n",
       "      <td>NaN</td>\n",
       "      <td>NaN</td>\n",
       "      <td>NaN</td>\n",
       "      <td>NaN</td>\n",
       "      <td>NaN</td>\n",
       "    </tr>\n",
       "  </tbody>\n",
       "</table>\n",
       "<p>5 rows × 150 columns</p>\n",
       "</div>"
      ],
      "text/plain": [
       "  Jenis Kelamin  Usia Pendidikan Terakhir            Pekerjaan  \\\n",
       "0          Pria    32                  S1      Karyawan Swasta   \n",
       "1          Pria    14                 SMP  Pelajar / Mahasiswa   \n",
       "2        Wanita    18                  S1  Pelajar / Mahasiswa   \n",
       "3        Wanita    21                 SMA  Pelajar / Mahasiswa   \n",
       "4          Pria    19                  S1  Pelajar / Mahasiswa   \n",
       "\n",
       "  Penghasilan per Bulan     Domisili  \\\n",
       "0          > Rp 10 juta    Tangerang   \n",
       "1           < Rp 2 juta        Depok   \n",
       "2           < Rp 2 juta      Bandung   \n",
       "3           < Rp 2 juta  Purbalingga   \n",
       "4           < Rp 2 juta       Bekasi   \n",
       "\n",
       "  Durasi Penggunaan Internet per Hari (dalam Jam) Aktivitas Online Meningkat  \\\n",
       "0                                           1600%                  Sama saja   \n",
       "1                                             NaN                         Ya   \n",
       "2                                             NaN                         Ya   \n",
       "3                                            600%                  Sama saja   \n",
       "4                                             NaN                  Sama saja   \n",
       "\n",
       "  Aktivitas yang Meningkat dalam 3 Bulan Terakhir layanan_aktif_1  ...  \\\n",
       "0                                        sama aja  Mobile Banking  ...   \n",
       "1                              Akses media sosial             NaN  ...   \n",
       "2                          Mengikuti kelas online  Mobile Banking  ...   \n",
       "3                                             NaN  Mobile Banking  ...   \n",
       "4                                             NaN  Mobile Banking  ...   \n",
       "\n",
       "  cara_pembayaran_belanja_online_5 cara_pembayaran_belanja_online_6  \\\n",
       "0                              NaN                              NaN   \n",
       "1                              NaN                              NaN   \n",
       "2                              NaN                              NaN   \n",
       "3                              NaN                              NaN   \n",
       "4                 Transfer via ATM                              NaN   \n",
       "\n",
       "  cara_pembayaran_belanja_online_7 cara_pembayaran_belanja_online_8  \\\n",
       "0                              NaN       menggunakan fitur Paylater   \n",
       "1                              NaN                              NaN   \n",
       "2                              NaN                              NaN   \n",
       "3                              NaN                              NaN   \n",
       "4                              NaN                              NaN   \n",
       "\n",
       "                            keluhan_belanja_online_1  \\\n",
       "0                                                NaN   \n",
       "1  Barang yang diperoleh tidak sesuai dengan spes...   \n",
       "2  Barang yang diperoleh tidak sesuai dengan spes...   \n",
       "3  Barang yang diperoleh tidak sesuai dengan spes...   \n",
       "4                                                NaN   \n",
       "\n",
       "                            keluhan_belanja_online_2 keluhan_belanja_online_3  \\\n",
       "0  Barang rusak/ salah tetapi tidak dapat dikemba...                      NaN   \n",
       "1  Barang rusak/ salah tetapi tidak dapat dikemba...                      NaN   \n",
       "2  Barang rusak/ salah tetapi tidak dapat dikemba...                      NaN   \n",
       "3                                                NaN                      NaN   \n",
       "4                                                NaN                      NaN   \n",
       "\n",
       "  keluhan_belanja_online_4                           keluhan_belanja_online_5  \\\n",
       "0                      NaN  Pembayaran telah dilakukan tetapi tidak terdet...   \n",
       "1                      NaN  Pembayaran telah dilakukan tetapi tidak terdet...   \n",
       "2                      NaN                                                NaN   \n",
       "3                      NaN  Pembayaran telah dilakukan tetapi tidak terdet...   \n",
       "4                      NaN                                                NaN   \n",
       "\n",
       "                            keluhan_belanja_online_6  \n",
       "0  Saldo eMoney/ eWallet berkurang tanpa melakuka...  \n",
       "1                                                NaN  \n",
       "2                                                NaN  \n",
       "3                                                NaN  \n",
       "4                                                NaN  \n",
       "\n",
       "[5 rows x 150 columns]"
      ]
     },
     "execution_count": 106,
     "metadata": {},
     "output_type": "execute_result"
    }
   ],
   "source": [
    "df = pd.read_excel('13222012.xlsx')\n",
    "df.head()"
   ]
  },
  {
   "cell_type": "markdown",
   "metadata": {},
   "source": [
    "# Nomor 1"
   ]
  },
  {
   "cell_type": "markdown",
   "metadata": {},
   "source": [
    "### a. "
   ]
  },
  {
   "cell_type": "code",
   "execution_count": 107,
   "metadata": {},
   "outputs": [
    {
     "name": "stdout",
     "output_type": "stream",
     "text": [
      "row = 283\n",
      "column = 150\n"
     ]
    }
   ],
   "source": [
    "print(\"row =\", len(df))\n",
    "print(\"column =\",len(df.columns))"
   ]
  },
  {
   "cell_type": "markdown",
   "metadata": {},
   "source": [
    "<hr/>"
   ]
  },
  {
   "cell_type": "markdown",
   "metadata": {},
   "source": [
    "### b."
   ]
  },
  {
   "cell_type": "code",
   "execution_count": 108,
   "metadata": {},
   "outputs": [
    {
     "data": {
      "text/plain": [
       "Jenis Kelamin                 0\n",
       "Usia                          0\n",
       "Pendidikan Terakhir           0\n",
       "Pekerjaan                     0\n",
       "Penghasilan per Bulan         0\n",
       "                           ... \n",
       "keluhan_belanja_online_2    198\n",
       "keluhan_belanja_online_3    207\n",
       "keluhan_belanja_online_4    232\n",
       "keluhan_belanja_online_5    252\n",
       "keluhan_belanja_online_6    265\n",
       "Length: 150, dtype: int64"
      ]
     },
     "execution_count": 108,
     "metadata": {},
     "output_type": "execute_result"
    }
   ],
   "source": [
    "df.isna().sum()"
   ]
  },
  {
   "cell_type": "markdown",
   "metadata": {},
   "source": [
    "Jumlah masing - masing data kosong pada setiap kolom dapat dilihat di atas, dengan jumlah total dari keseluruhan data adalah sebagai berikut"
   ]
  },
  {
   "cell_type": "code",
   "execution_count": 109,
   "metadata": {},
   "outputs": [
    {
     "data": {
      "text/plain": [
       "24107"
      ]
     },
     "execution_count": 109,
     "metadata": {},
     "output_type": "execute_result"
    }
   ],
   "source": [
    "df.isna().sum().sum()  "
   ]
  },
  {
   "cell_type": "markdown",
   "metadata": {},
   "source": [
    "<hr/>"
   ]
  },
  {
   "cell_type": "markdown",
   "metadata": {},
   "source": [
    "# Nomor 2"
   ]
  },
  {
   "cell_type": "markdown",
   "metadata": {},
   "source": [
    "### Grafik pertama"
   ]
  },
  {
   "cell_type": "code",
   "execution_count": 110,
   "metadata": {},
   "outputs": [
    {
     "data": {
      "image/png": "[encoded data removed]",
      "text/plain": [
       "<Figure size 640x480 with 1 Axes>"
      ]
     },
     "metadata": {},
     "output_type": "display_data"
    }
   ],
   "source": [
    "df['Pendidikan Terakhir'].value_counts().plot(kind=\"bar\")\n",
    "plt.title('Grafik Pendidikan Terakhir Dari Responden')\n",
    "plt.show()"
   ]
  },
  {
   "cell_type": "markdown",
   "metadata": {},
   "source": [
    "Mayoritas dari responden memiliki pendidikan terakhir yaitu SMA, dilanjutkan dengan S1 sebagai terbanyak kedua. Dari data tersebut, dapat disimpulkan bahwa kemungkinan besar responden memiliki usia yang merupakan usia ketika menduduki S1, dari rentang umur 19 tahun sampai 23 tahun"
   ]
  },
  {
   "cell_type": "markdown",
   "metadata": {},
   "source": [
    "<hr/>"
   ]
  },
  {
   "cell_type": "markdown",
   "metadata": {},
   "source": [
    "### Grafik Kedua"
   ]
  },
  {
   "cell_type": "code",
   "execution_count": 111,
   "metadata": {},
   "outputs": [
    {
     "data": {
      "text/html": [
       "<div>\n",
       "<style scoped>\n",
       "    .dataframe tbody tr th:only-of-type {\n",
       "        vertical-align: middle;\n",
       "    }\n",
       "\n",
       "    .dataframe tbody tr th {\n",
       "        vertical-align: top;\n",
       "    }\n",
       "\n",
       "    .dataframe thead th {\n",
       "        text-align: right;\n",
       "    }\n",
       "</style>\n",
       "<table border=\"1\" class=\"dataframe\">\n",
       "  <thead>\n",
       "    <tr style=\"text-align: right;\">\n",
       "      <th></th>\n",
       "      <th>Jenis Kelamin</th>\n",
       "      <th>Usia</th>\n",
       "      <th>Pendidikan Terakhir</th>\n",
       "      <th>Pekerjaan</th>\n",
       "      <th>Penghasilan per Bulan</th>\n",
       "      <th>Domisili</th>\n",
       "      <th>Durasi Penggunaan Internet per Hari (dalam Jam)</th>\n",
       "      <th>Aktivitas Online Meningkat</th>\n",
       "      <th>Aktivitas yang Meningkat dalam 3 Bulan Terakhir</th>\n",
       "      <th>layanan_aktif_1</th>\n",
       "      <th>...</th>\n",
       "      <th>cara_pembayaran_belanja_online_5</th>\n",
       "      <th>cara_pembayaran_belanja_online_6</th>\n",
       "      <th>cara_pembayaran_belanja_online_7</th>\n",
       "      <th>cara_pembayaran_belanja_online_8</th>\n",
       "      <th>keluhan_belanja_online_1</th>\n",
       "      <th>keluhan_belanja_online_2</th>\n",
       "      <th>keluhan_belanja_online_3</th>\n",
       "      <th>keluhan_belanja_online_4</th>\n",
       "      <th>keluhan_belanja_online_5</th>\n",
       "      <th>keluhan_belanja_online_6</th>\n",
       "    </tr>\n",
       "  </thead>\n",
       "  <tbody>\n",
       "    <tr>\n",
       "      <th>150</th>\n",
       "      <td>Wanita</td>\n",
       "      <td>1984</td>\n",
       "      <td>SMA</td>\n",
       "      <td>Ibu Rumah Tangga</td>\n",
       "      <td>Rp 2 juta – Rp 5 juta</td>\n",
       "      <td>Jakarta</td>\n",
       "      <td>NaN</td>\n",
       "      <td>Sama saja</td>\n",
       "      <td>NaN</td>\n",
       "      <td>NaN</td>\n",
       "      <td>...</td>\n",
       "      <td>NaN</td>\n",
       "      <td>NaN</td>\n",
       "      <td>NaN</td>\n",
       "      <td>NaN</td>\n",
       "      <td>Barang yang diperoleh tidak sesuai dengan spes...</td>\n",
       "      <td>NaN</td>\n",
       "      <td>NaN</td>\n",
       "      <td>NaN</td>\n",
       "      <td>NaN</td>\n",
       "      <td>NaN</td>\n",
       "    </tr>\n",
       "  </tbody>\n",
       "</table>\n",
       "<p>1 rows × 150 columns</p>\n",
       "</div>"
      ],
      "text/plain": [
       "    Jenis Kelamin  Usia Pendidikan Terakhir         Pekerjaan  \\\n",
       "150        Wanita  1984                 SMA  Ibu Rumah Tangga   \n",
       "\n",
       "     Penghasilan per Bulan Domisili  \\\n",
       "150  Rp 2 juta – Rp 5 juta  Jakarta   \n",
       "\n",
       "    Durasi Penggunaan Internet per Hari (dalam Jam)  \\\n",
       "150                                             NaN   \n",
       "\n",
       "    Aktivitas Online Meningkat  \\\n",
       "150                  Sama saja   \n",
       "\n",
       "    Aktivitas yang Meningkat dalam 3 Bulan Terakhir layanan_aktif_1  ...  \\\n",
       "150                                             NaN             NaN  ...   \n",
       "\n",
       "    cara_pembayaran_belanja_online_5 cara_pembayaran_belanja_online_6  \\\n",
       "150                              NaN                              NaN   \n",
       "\n",
       "    cara_pembayaran_belanja_online_7 cara_pembayaran_belanja_online_8  \\\n",
       "150                              NaN                              NaN   \n",
       "\n",
       "                              keluhan_belanja_online_1  \\\n",
       "150  Barang yang diperoleh tidak sesuai dengan spes...   \n",
       "\n",
       "    keluhan_belanja_online_2 keluhan_belanja_online_3  \\\n",
       "150                      NaN                      NaN   \n",
       "\n",
       "    keluhan_belanja_online_4 keluhan_belanja_online_5 keluhan_belanja_online_6  \n",
       "150                      NaN                      NaN                      NaN  \n",
       "\n",
       "[1 rows x 150 columns]"
      ]
     },
     "execution_count": 111,
     "metadata": {},
     "output_type": "execute_result"
    }
   ],
   "source": [
    "# Ada data yang error pada data usia yaitu data berikut\n",
    "df.loc[df['Usia'] == 1984]"
   ]
  },
  {
   "cell_type": "code",
   "execution_count": 112,
   "metadata": {},
   "outputs": [
    {
     "data": {
      "image/png": "[encoded data removed]",
      "text/plain": [
       "<Figure size 640x480 with 1 Axes>"
      ]
     },
     "metadata": {},
     "output_type": "display_data"
    }
   ],
   "source": [
    "\n",
    "# Data yang error tersebut merupakan data pada kolom Usia, tetapi responden memasukkan nilai berupa tahun, yang kemungkinan besar merupakan tahun kelahirannya sehingga saya memperbaikinya dengan mengganti nilai kolom tersebut menjadi nilai usia sekarang berdassarkan tahun tersebut\n",
    "df.loc[df['Usia'] == 1984, 'Usia'] = (2023 - 1984)\n",
    "\n",
    "df['Grouped Age'] = pd.cut(df['Usia'], bins=[0, 18, 23, 27, 30, 200], right=True, labels=['Kurang dari 18', 'Antara 19 - 23', 'Antara 24 - 27','Antara 27 - 30','Lebih dari 30'])\n",
    "df['Grouped Age'].value_counts().plot(kind='bar')\n",
    "plt.title('Grafik Rentang Usia Dari Responden')\n",
    "plt.show()"
   ]
  },
  {
   "cell_type": "markdown",
   "metadata": {},
   "source": [
    "Sesuai asumsi sebelumnya, mayoritas dari responden memiliki usia pada rentang 19 tahun - 23 tahun yang memiliki pendidikan terakhir yaitu SMA. Kemudian responden terbanyak kedua berasal dari orang yang memilki usia yang lebih dari 30 tahun, yang merupakan orang yang sudah bekerja dan mencari uang sendiri. Hal ini cukup normal karena pengguna uang elektronik, tempat belanja online, ataupun mobile banking adalah orang yang kemungkinan besar telah menduduki pendidikan S1 atau diatasnya. Bagi mahasiswa S1, banyak dari mahasiswa tersebut merupakan mahasiswa yang merantau ataupun cukup jauh dari tempat tinggal asalnya, sehingga uang elektronik, mobile banking, dan hal - hal yang mirip seperti itu telah menjadi sebuah kebutuhan untuk dimiliki oleh mahasiswa sehingga memudahkan mereka dalam keuangan sehari - hari, sedangkan untuk umur di atasnya telah menjadi sebuah hal yang wajar dimiliki sebagai kebutuhan pekerjaan ataupun semacamnya. "
   ]
  },
  {
   "cell_type": "markdown",
   "metadata": {},
   "source": [
    "<hr/>"
   ]
  },
  {
   "cell_type": "markdown",
   "metadata": {},
   "source": [
    "### Grafik Ketiga"
   ]
  },
  {
   "cell_type": "code",
   "execution_count": 113,
   "metadata": {},
   "outputs": [
    {
     "data": {
      "image/png": "[encoded data removed]",
      "text/plain": [
       "<Figure size 640x480 with 1 Axes>"
      ]
     },
     "metadata": {},
     "output_type": "display_data"
    }
   ],
   "source": [
    "df['Penghasilan per Bulan'].value_counts().plot(kind=\"bar\")\n",
    "plt.title('Grafik Penghasilan Yang Dimiliki Responden')\n",
    "plt.show()"
   ]
  },
  {
   "cell_type": "markdown",
   "metadata": {},
   "source": [
    "Mayoritas dari responden memiliki penghasilan kurang dari 2 juta. Dilihat dari variasi pekerjaan responden yang ada, yang mendominasi nilai ini adalah responden yang memiliki pekerjaan sebagai Pelajar/Mahasiswa, sesuai dengan jumlah terbanyak responden juga berasal dari umur 19 - 23 tahun yang merupakan umur Pelajar/Mahasiswa. Untuk pekerjaan lainnya memiliki penghasilan yang cukup bervariasi yang dapat dilihat dari grafik di atas."
   ]
  },
  {
   "cell_type": "markdown",
   "metadata": {},
   "source": [
    "<hr/>"
   ]
  },
  {
   "cell_type": "markdown",
   "metadata": {},
   "source": [
    "### Grafik keempat"
   ]
  },
  {
   "cell_type": "code",
   "execution_count": 114,
   "metadata": {},
   "outputs": [
    {
     "data": {
      "image/png": "[encoded data removed]",
      "text/plain": [
       "<Figure size 640x480 with 1 Axes>"
      ]
     },
     "metadata": {},
     "output_type": "display_data"
    }
   ],
   "source": [
    "df['45. Bagaimana frekuensi Anda melakukan belanja online dalam 6 bulan terakhir?'].value_counts().plot(kind=\"pie\",autopct='%1.1f%%')\n",
    "plt.title('Grafik Frekuensi Aktivitas Belanja Online Yang Dilakukan Responden Dalam 6 Bulan Terakhir')\n",
    "plt.show()"
   ]
  },
  {
   "cell_type": "markdown",
   "metadata": {},
   "source": [
    "<p>Dalam 6 bulan terakhir, terdapat 37,8% orang yang frekuensi belanja onlinenya meningkat, serta 41,7% orang memiliki frekuensi belanja online yang tetap. Hal ini didukung dengan perkembangan teknologi yang ada sekarang, ditambah dengan pengalaman saat pandemi Covid-19 2020 lalu, yang membuat belanja online cukup banyak diminati oleh mayoritas orang sekarang karena lebih praktis dan cukup mudah untuk dilakukan oleh orang dari semua kalangan.</p>"
   ]
  },
  {
   "cell_type": "markdown",
   "metadata": {},
   "source": [
    "<hr/>"
   ]
  },
  {
   "cell_type": "markdown",
   "metadata": {},
   "source": [
    "### Grafik Kelima"
   ]
  },
  {
   "cell_type": "code",
   "execution_count": 115,
   "metadata": {},
   "outputs": [
    {
     "data": {
      "image/png": "[encoded data removed]",
      "text/plain": [
       "<Figure size 640x480 with 1 Axes>"
      ]
     },
     "metadata": {},
     "output_type": "display_data"
    }
   ],
   "source": [
    "df['50. Apakah Anda pernah menggunakan layanan Food Delivery (pembelian makanan/ minuman secara online )? Jika Pernah, mohon sebutkan layanan yang PALING sering Anda gunakan?'].value_counts().plot(kind='bar')\n",
    "plt.title(\"Variasi Penggunaan Food Delivery\")\n",
    "plt.xlabel(\"Food Delivery\")\n",
    "plt.show()"
   ]
  },
  {
   "cell_type": "markdown",
   "metadata": {},
   "source": [
    "<p>Responden Banyak Menggunakan Go Food Sebagai opsi untuk Food Delivery, dilanjutkan dengan Shopee Food dan Juga Grab Food. Ketiga aplikasi tersebut adalah aplikasi yang cukup banyak menawarkan promo dalam penggunaan sehari - hari, sehingga cukup normal jika ketiga aplikasi tersebut mendominasi food delivery yang biasa digunakan oleh mayoritas orang. Untuk aplikasi sisanya seperti Traveloka Eats dan Maxim Food, masih kurang memiliki popularitas dibandingkan ketiga aplikasi tersebut, sedangkan untuk Tiktok adalah aplikasi yang banyak orang memakai untuk sosial medianya, bukan untuk Food Delivery nya </p>"
   ]
  },
  {
   "cell_type": "markdown",
   "metadata": {},
   "source": [
    "<hr/>"
   ]
  },
  {
   "cell_type": "markdown",
   "metadata": {},
   "source": [
    "### Grafik Keenam"
   ]
  },
  {
   "cell_type": "code",
   "execution_count": 116,
   "metadata": {},
   "outputs": [
    {
     "data": {
      "image/png": "[encoded data removed]",
      "text/plain": [
       "<Figure size 640x480 with 1 Axes>"
      ]
     },
     "metadata": {},
     "output_type": "display_data"
    }
   ],
   "source": [
    "df['18. Bagaimana frekuensi penggunaan Channel Bank berikut? [Mobile Banking ]'].value_counts().plot(kind=\"bar\")\n",
    "plt.xlabel(\"Frekuensi Penggunaan Mobile banking\")\n",
    "plt.title(\"Grafik Frekuensi Penggunaan Mobile Banking\")\n",
    "plt.show()"
   ]
  },
  {
   "cell_type": "markdown",
   "metadata": {},
   "source": [
    "<p>Dari grafik diatas, diketahui bahwa frekuensi terdapat lebih dari 140 orang yang menggunakan mobile banking lebih dari 10kali perbulan, dan angka tersebut adalah angka yang mendominasi dari jumlah responden yang ada. Dapat disimpulkan bahwa mobile banking menjadi opsi utama dari penggunaan Channel Bank yang dilakukan oleh responden yang ada.</p>"
   ]
  },
  {
   "cell_type": "markdown",
   "metadata": {},
   "source": [
    "<hr/>"
   ]
  },
  {
   "cell_type": "markdown",
   "metadata": {},
   "source": [
    "# Nomor 3"
   ]
  },
  {
   "cell_type": "markdown",
   "metadata": {},
   "source": [
    "### A."
   ]
  },
  {
   "cell_type": "markdown",
   "metadata": {},
   "source": [
    "<hr/>"
   ]
  },
  {
   "cell_type": "markdown",
   "metadata": {},
   "source": [
    "##### Variabel 1 : Confidence Interval untuk Proporsi Pemakai Layanan Aktif Mobile Banking"
   ]
  },
  {
   "cell_type": "code",
   "execution_count": 117,
   "metadata": {},
   "outputs": [
    {
     "data": {
      "text/html": [
       "<div>\n",
       "<style scoped>\n",
       "    .dataframe tbody tr th:only-of-type {\n",
       "        vertical-align: middle;\n",
       "    }\n",
       "\n",
       "    .dataframe tbody tr th {\n",
       "        vertical-align: top;\n",
       "    }\n",
       "\n",
       "    .dataframe thead th {\n",
       "        text-align: right;\n",
       "    }\n",
       "</style>\n",
       "<table border=\"1\" class=\"dataframe\">\n",
       "  <thead>\n",
       "    <tr style=\"text-align: right;\">\n",
       "      <th></th>\n",
       "      <th>Jenis Layanan</th>\n",
       "      <th>Jumlah Pemakai</th>\n",
       "    </tr>\n",
       "  </thead>\n",
       "  <tbody>\n",
       "    <tr>\n",
       "      <th>0</th>\n",
       "      <td>Mobile Banking</td>\n",
       "      <td>239</td>\n",
       "    </tr>\n",
       "    <tr>\n",
       "      <th>1</th>\n",
       "      <td>ATM</td>\n",
       "      <td>160</td>\n",
       "    </tr>\n",
       "    <tr>\n",
       "      <th>2</th>\n",
       "      <td>Kartu Kredit</td>\n",
       "      <td>26</td>\n",
       "    </tr>\n",
       "    <tr>\n",
       "      <th>3</th>\n",
       "      <td>Internet Banking</td>\n",
       "      <td>63</td>\n",
       "    </tr>\n",
       "    <tr>\n",
       "      <th>4</th>\n",
       "      <td>Datang ke Kantor Cabang</td>\n",
       "      <td>18</td>\n",
       "    </tr>\n",
       "    <tr>\n",
       "      <th>5</th>\n",
       "      <td>SMS Banking</td>\n",
       "      <td>9</td>\n",
       "    </tr>\n",
       "  </tbody>\n",
       "</table>\n",
       "</div>"
      ],
      "text/plain": [
       "             Jenis Layanan  Jumlah Pemakai\n",
       "0           Mobile Banking             239\n",
       "1                      ATM             160\n",
       "2             Kartu Kredit              26\n",
       "3         Internet Banking              63\n",
       "4  Datang ke Kantor Cabang              18\n",
       "5              SMS Banking               9"
      ]
     },
     "execution_count": 117,
     "metadata": {},
     "output_type": "execute_result"
    }
   ],
   "source": [
    "# Membuat Dataframe untuk layanan aktif\n",
    "df_layanan_aktif = pd.DataFrame([['Mobile Banking', df['layanan_aktif_1'].value_counts()['Mobile Banking']],\n",
    "                                 ['ATM', df['layanan_aktif_2'].value_counts()['ATM']],\n",
    "                                 ['Kartu Kredit',df['layanan_aktif_3'].value_counts()['Kartu Kredit']],\n",
    "                                 ['Internet Banking',df['layanan_aktif_4'].value_counts()['Internet Banking']],\n",
    "                                 ['Datang ke Kantor Cabang',df['layanan_aktif_5'].value_counts()['Datang ke Kantor Cabang']],\n",
    "                                 ['SMS Banking', df['layanan_aktif_6'].value_counts()['SMS Banking']]]\n",
    "                                 , columns=['Jenis Layanan', 'Jumlah Pemakai'])\n",
    "\n",
    "df_layanan_aktif"
   ]
  },
  {
   "cell_type": "code",
   "execution_count": 118,
   "metadata": {},
   "outputs": [
    {
     "name": "stdout",
     "output_type": "stream",
     "text": [
      "Lower Bound of 95% Confidence Interval for Proportion of Layanan Aktif Mobile Banking :  0.4210\n",
      "Upper Bound of 95% Confidence Interval for Proportion of Layanan Aktif Mobile Banking :  0.5071\n"
     ]
    }
   ],
   "source": [
    "(lbMobileBanking, ubMobileBanking) = sm.proportion.proportion_confint(\n",
    "    count = df_layanan_aktif['Jumlah Pemakai'].loc[df_layanan_aktif['Jenis Layanan'] == 'Mobile Banking'],\n",
    "    nobs = df_layanan_aktif['Jumlah Pemakai'].sum(),\n",
    "    alpha=0.05,\n",
    "    method='normal')\n",
    "print(f\"Lower Bound of 95% Confidence Interval for Proportion of Layanan Aktif Mobile Banking : {lbMobileBanking[0] : .4f}\")\n",
    "print(f\"Upper Bound of 95% Confidence Interval for Proportion of Layanan Aktif Mobile Banking : {ubMobileBanking[0] : .4f}\")"
   ]
  },
  {
   "cell_type": "markdown",
   "metadata": {},
   "source": [
    "<hr/>"
   ]
  },
  {
   "cell_type": "markdown",
   "metadata": {},
   "source": [
    "##### Variabel 2 : Confidence Interval untuk Proporsi Pelajar / Mahasiswa"
   ]
  },
  {
   "cell_type": "code",
   "execution_count": 119,
   "metadata": {},
   "outputs": [
    {
     "data": {
      "text/html": [
       "<div>\n",
       "<style scoped>\n",
       "    .dataframe tbody tr th:only-of-type {\n",
       "        vertical-align: middle;\n",
       "    }\n",
       "\n",
       "    .dataframe tbody tr th {\n",
       "        vertical-align: top;\n",
       "    }\n",
       "\n",
       "    .dataframe thead th {\n",
       "        text-align: right;\n",
       "    }\n",
       "</style>\n",
       "<table border=\"1\" class=\"dataframe\">\n",
       "  <thead>\n",
       "    <tr style=\"text-align: right;\">\n",
       "      <th></th>\n",
       "      <th>Frekuensi Dari Pekerjaan Responden</th>\n",
       "    </tr>\n",
       "    <tr>\n",
       "      <th>Pekerjaan</th>\n",
       "      <th></th>\n",
       "    </tr>\n",
       "  </thead>\n",
       "  <tbody>\n",
       "    <tr>\n",
       "      <th>Pelajar / Mahasiswa</th>\n",
       "      <td>146</td>\n",
       "    </tr>\n",
       "    <tr>\n",
       "      <th>Karyawan Swasta</th>\n",
       "      <td>59</td>\n",
       "    </tr>\n",
       "    <tr>\n",
       "      <th>Ibu Rumah Tangga</th>\n",
       "      <td>24</td>\n",
       "    </tr>\n",
       "    <tr>\n",
       "      <th>Pegawai Negeri</th>\n",
       "      <td>21</td>\n",
       "    </tr>\n",
       "    <tr>\n",
       "      <th>Pengusaha</th>\n",
       "      <td>11</td>\n",
       "    </tr>\n",
       "    <tr>\n",
       "      <th>Profesional ( Dokter, Dosen, Pengacara, dll)</th>\n",
       "      <td>9</td>\n",
       "    </tr>\n",
       "    <tr>\n",
       "      <th>BUMD</th>\n",
       "      <td>2</td>\n",
       "    </tr>\n",
       "    <tr>\n",
       "      <th>Wiraswasta</th>\n",
       "      <td>2</td>\n",
       "    </tr>\n",
       "    <tr>\n",
       "      <th>Pensiun</th>\n",
       "      <td>1</td>\n",
       "    </tr>\n",
       "    <tr>\n",
       "      <th>Peneliti</th>\n",
       "      <td>1</td>\n",
       "    </tr>\n",
       "    <tr>\n",
       "      <th>belum bekerja</th>\n",
       "      <td>1</td>\n",
       "    </tr>\n",
       "    <tr>\n",
       "      <th>Pensiunan</th>\n",
       "      <td>1</td>\n",
       "    </tr>\n",
       "    <tr>\n",
       "      <th>Karyawan BUMN</th>\n",
       "      <td>1</td>\n",
       "    </tr>\n",
       "    <tr>\n",
       "      <th>Karyawan BUMD</th>\n",
       "      <td>1</td>\n",
       "    </tr>\n",
       "    <tr>\n",
       "      <th>Pensiunan PNS</th>\n",
       "      <td>1</td>\n",
       "    </tr>\n",
       "    <tr>\n",
       "      <th>Pensiunan Swasta</th>\n",
       "      <td>1</td>\n",
       "    </tr>\n",
       "    <tr>\n",
       "      <th>Pegawai BUMN</th>\n",
       "      <td>1</td>\n",
       "    </tr>\n",
       "  </tbody>\n",
       "</table>\n",
       "</div>"
      ],
      "text/plain": [
       "                                              Frekuensi Dari Pekerjaan Responden\n",
       "Pekerjaan                                                                       \n",
       "Pelajar / Mahasiswa                                                          146\n",
       "Karyawan Swasta                                                               59\n",
       "Ibu Rumah Tangga                                                              24\n",
       "Pegawai Negeri                                                                21\n",
       "Pengusaha                                                                     11\n",
       "Profesional ( Dokter, Dosen, Pengacara, dll)                                   9\n",
       "BUMD                                                                           2\n",
       "Wiraswasta                                                                     2\n",
       "Pensiun                                                                        1\n",
       "Peneliti                                                                       1\n",
       "belum bekerja                                                                  1\n",
       "Pensiunan                                                                      1\n",
       "Karyawan BUMN                                                                  1\n",
       "Karyawan BUMD                                                                  1\n",
       "Pensiunan PNS                                                                  1\n",
       "Pensiunan Swasta                                                               1\n",
       "Pegawai BUMN                                                                   1"
      ]
     },
     "execution_count": 119,
     "metadata": {},
     "output_type": "execute_result"
    }
   ],
   "source": [
    "#Membuat DataFrame mengenai frekuensi pekerjaan dari responden\n",
    "value_count_pelajar_mahasiswa = df['Pekerjaan'].value_counts()\n",
    "df_Pekerjaan = pd.DataFrame({'Frekuensi Dari Pekerjaan Responden' : value_count_pelajar_mahasiswa})\n",
    "df_Pekerjaan"
   ]
  },
  {
   "cell_type": "code",
   "execution_count": 120,
   "metadata": {},
   "outputs": [
    {
     "name": "stdout",
     "output_type": "stream",
     "text": [
      "Lower Bound of 95% Confidence Interval for Proportion of Pelajar/Mahasiswa :  0.4577\n",
      "Upper Bound of 95% Confidence Interval for Proportion of Pelajar/Mahasiswa :  0.5741\n"
     ]
    }
   ],
   "source": [
    "# Confidence Interval untuk Proporsi pekerjaan sebagai Pelajar/Mahasiswa\n",
    "(lbMahasiswa, ubMahasiswa) = sm.proportion.proportion_confint(\n",
    "    count = df_Pekerjaan['Frekuensi Dari Pekerjaan Responden'].loc[df_Pekerjaan['Frekuensi Dari Pekerjaan Responden'] == 146], \n",
    "    nobs=df_Pekerjaan['Frekuensi Dari Pekerjaan Responden'].sum(), \n",
    "    alpha = 0.05, \n",
    "    method='normal')\n",
    "print(f\"Lower Bound of 95% Confidence Interval for Proportion of Pelajar/Mahasiswa : {lbMahasiswa['Pelajar / Mahasiswa'] : .4f}\")\n",
    "print(f\"Upper Bound of 95% Confidence Interval for Proportion of Pelajar/Mahasiswa : {ubMahasiswa['Pelajar / Mahasiswa'] : .4f}\")\n"
   ]
  },
  {
   "cell_type": "markdown",
   "metadata": {},
   "source": [
    "<hr/>"
   ]
  },
  {
   "cell_type": "markdown",
   "metadata": {},
   "source": [
    "##### Variabel 3 : Confidence Interval untuk Proporsi Bank BCA"
   ]
  },
  {
   "cell_type": "code",
   "execution_count": 121,
   "metadata": {},
   "outputs": [
    {
     "data": {
      "text/html": [
       "<div>\n",
       "<style scoped>\n",
       "    .dataframe tbody tr th:only-of-type {\n",
       "        vertical-align: middle;\n",
       "    }\n",
       "\n",
       "    .dataframe tbody tr th {\n",
       "        vertical-align: top;\n",
       "    }\n",
       "\n",
       "    .dataframe thead th {\n",
       "        text-align: right;\n",
       "    }\n",
       "</style>\n",
       "<table border=\"1\" class=\"dataframe\">\n",
       "  <thead>\n",
       "    <tr style=\"text-align: right;\">\n",
       "      <th></th>\n",
       "      <th>Bank</th>\n",
       "      <th>Jumlah Pemakai</th>\n",
       "    </tr>\n",
       "  </thead>\n",
       "  <tbody>\n",
       "    <tr>\n",
       "      <th>0</th>\n",
       "      <td>Bank BNI</td>\n",
       "      <td>55</td>\n",
       "    </tr>\n",
       "    <tr>\n",
       "      <th>1</th>\n",
       "      <td>Bank Mandiri</td>\n",
       "      <td>82</td>\n",
       "    </tr>\n",
       "    <tr>\n",
       "      <th>2</th>\n",
       "      <td>Bank BCA</td>\n",
       "      <td>168</td>\n",
       "    </tr>\n",
       "    <tr>\n",
       "      <th>3</th>\n",
       "      <td>Bank CIMB Niaga</td>\n",
       "      <td>21</td>\n",
       "    </tr>\n",
       "    <tr>\n",
       "      <th>4</th>\n",
       "      <td>Bank BRI</td>\n",
       "      <td>61</td>\n",
       "    </tr>\n",
       "    <tr>\n",
       "      <th>5</th>\n",
       "      <td>Bank BTN</td>\n",
       "      <td>7</td>\n",
       "    </tr>\n",
       "    <tr>\n",
       "      <th>6</th>\n",
       "      <td>Bank Permata</td>\n",
       "      <td>9</td>\n",
       "    </tr>\n",
       "  </tbody>\n",
       "</table>\n",
       "</div>"
      ],
      "text/plain": [
       "              Bank  Jumlah Pemakai\n",
       "0         Bank BNI              55\n",
       "1     Bank Mandiri              82\n",
       "2         Bank BCA             168\n",
       "3  Bank CIMB Niaga              21\n",
       "4         Bank BRI              61\n",
       "5         Bank BTN               7\n",
       "6     Bank Permata               9"
      ]
     },
     "execution_count": 121,
     "metadata": {},
     "output_type": "execute_result"
    }
   ],
   "source": [
    "# Membuat Dataframe untuk Bank \n",
    "df_bank = pd.DataFrame([['Bank BNI', df['bank_1'].value_counts()['Bank BNI']],\n",
    "                                 ['Bank Mandiri', df['bank_2'].value_counts()['Bank Mandiri']],\n",
    "                                 ['Bank BCA',df['bank_3'].value_counts()['Bank BCA']],\n",
    "                                 ['Bank CIMB Niaga',df['bank_4'].value_counts()['Bank CIMB Niaga']],\n",
    "                                 ['Bank BRI',df['bank_5'].value_counts()['Bank BRI']],\n",
    "                                 ['Bank BTN', df['bank_6'].value_counts()['Bank BTN']],\n",
    "                                 ['Bank Permata', df['bank_7'].value_counts()['Bank Permata']]]\n",
    "                                 , columns=['Bank', 'Jumlah Pemakai'])\n",
    "df_bank"
   ]
  },
  {
   "cell_type": "code",
   "execution_count": 122,
   "metadata": {},
   "outputs": [
    {
     "name": "stdout",
     "output_type": "stream",
     "text": [
      "Lower Bound of 95% Confidence Interval for Proportion of Layanan Aktif Mobile Banking :  0.3687\n",
      "Upper Bound of 95% Confidence Interval for Proportion of Layanan Aktif Mobile Banking :  0.4650\n"
     ]
    }
   ],
   "source": [
    "(lbBank, ubBank) = sm.proportion.proportion_confint(\n",
    "    count = df_bank['Jumlah Pemakai'].loc[df_bank['Bank'] == 'Bank BCA'],\n",
    "    nobs = df_bank['Jumlah Pemakai'].sum(),\n",
    "    alpha=0.05,\n",
    "    method='normal')\n",
    "print(f\"Lower Bound of 95% Confidence Interval for Proportion of Layanan Aktif Mobile Banking : {lbBank[2] : .4f}\")\n",
    "print(f\"Upper Bound of 95% Confidence Interval for Proportion of Layanan Aktif Mobile Banking : {ubBank[2] : .4f}\")"
   ]
  },
  {
   "cell_type": "markdown",
   "metadata": {},
   "source": [
    "<hr/>"
   ]
  },
  {
   "cell_type": "markdown",
   "metadata": {},
   "source": [
    "### B."
   ]
  },
  {
   "cell_type": "markdown",
   "metadata": {},
   "source": [
    "alpha = 5%"
   ]
  },
  {
   "cell_type": "markdown",
   "metadata": {},
   "source": [
    "<hr/>"
   ]
  },
  {
   "cell_type": "markdown",
   "metadata": {},
   "source": [
    "##### Variabel 1 : Proporsi Pelajar/Mahasiswa"
   ]
  },
  {
   "cell_type": "markdown",
   "metadata": {},
   "source": [
    "H0 : Proporsi Pelajar/Mahasiswa = 50% <br/>\n",
    "H1 : Proporsi Pelajar/Mahasiswa != 50%"
   ]
  },
  {
   "cell_type": "code",
   "execution_count": 123,
   "metadata": {},
   "outputs": [
    {
     "name": "stdout",
     "output_type": "stream",
     "text": [
      "Z Score untuk proporsi pelajar/mahasiswa adalah  0.53499\n",
      "P Value untuk proporsi Pelajar/Mahasiswa adalah  0.59265\n"
     ]
    }
   ],
   "source": [
    "(pelajar_mahasiswa_zscore, pelajar_mahasiswa_pvalue) = sm.proportion.proportions_ztest(\n",
    "    count=df_Pekerjaan['Frekuensi Dari Pekerjaan Responden'].loc[df_Pekerjaan['Frekuensi Dari Pekerjaan Responden'] == 146], \n",
    "    nobs=df_Pekerjaan['Frekuensi Dari Pekerjaan Responden'].sum(), \n",
    "    value=0.5, \n",
    "    alternative='two-sided', \n",
    "    prop_var=0.5)\n",
    "print(f\"Z Score untuk proporsi pelajar/mahasiswa adalah {pelajar_mahasiswa_zscore[0] : .5f}\")\n",
    "print(f\"P Value untuk proporsi Pelajar/Mahasiswa adalah {pelajar_mahasiswa_pvalue[0] : .5f}\")"
   ]
  },
  {
   "cell_type": "markdown",
   "metadata": {},
   "source": [
    "KESIMPULAN<br/>\n",
    "Karena P value > alpha, maka H0 gagal ditolak (Proporsi Pelajar/Mahasiswa = 50%)"
   ]
  },
  {
   "cell_type": "markdown",
   "metadata": {},
   "source": [
    "<hr/>"
   ]
  },
  {
   "cell_type": "markdown",
   "metadata": {},
   "source": [
    "##### Variabel 2 : Proporsi Pemakai Layanan Aktif Mobile Banking"
   ]
  },
  {
   "cell_type": "markdown",
   "metadata": {},
   "source": [
    "H0 : Proporsi Pemakai Layanan Aktif Mobile Banking = 80% <br/>\n",
    "H1 : Proporsi Pemakai Layanan Aktif Mobile Banking != 80%"
   ]
  },
  {
   "cell_type": "code",
   "execution_count": 124,
   "metadata": {},
   "outputs": [
    {
     "name": "stdout",
     "output_type": "stream",
     "text": [
      "Z Score untuk proporsi pengguna layanan aktif Mobile Banking adalah -19.0582\n",
      "P Value untuk proporsi pengguna layanan aktif Mobile Banking adalah  0.0000\n"
     ]
    }
   ],
   "source": [
    "(mobile_banking_zscore, mobile_banking_pvalue) = sm.proportion.proportions_ztest(\n",
    "    count=df_layanan_aktif['Jumlah Pemakai'].loc[df_layanan_aktif['Jenis Layanan'] == 'Mobile Banking'], \n",
    "    nobs= df_layanan_aktif['Jumlah Pemakai'].sum(), \n",
    "    value=0.8, \n",
    "    alternative='two-sided',\n",
    "    prop_var=0.8)\n",
    "print(f\"Z Score untuk proporsi pengguna layanan aktif Mobile Banking adalah {mobile_banking_zscore[0] : .4f}\")\n",
    "print(f\"P Value untuk proporsi pengguna layanan aktif Mobile Banking adalah {mobile_banking_pvalue[0] : .4f}\")"
   ]
  },
  {
   "cell_type": "markdown",
   "metadata": {},
   "source": [
    "KESIMPULAN <br/>\n",
    "Karena P value < alpha, maka H0 ditolak (Pemakai Layanan Aktif Mobile Banking != 80%)"
   ]
  },
  {
   "cell_type": "markdown",
   "metadata": {},
   "source": [
    "<hr/>"
   ]
  },
  {
   "cell_type": "markdown",
   "metadata": {},
   "source": [
    "##### Variabel 3 : Proporsi Bank BCA"
   ]
  },
  {
   "cell_type": "markdown",
   "metadata": {},
   "source": [
    "H0 : Proporsi Bank BCA = 70% <br/>\n",
    "H1 : Proporsi Bank BCA < 70%"
   ]
  },
  {
   "cell_type": "code",
   "execution_count": 125,
   "metadata": {},
   "outputs": [
    {
     "name": "stdout",
     "output_type": "stream",
     "text": [
      "Z Score untuk proporsi pengguna layanan aktif Mobile Banking adalah -12.4029\n",
      "P Value untuk proporsi pengguna layanan aktif Mobile Banking adalah  0.0000\n"
     ]
    }
   ],
   "source": [
    "(bank_bca_zscore, bank_bca_pvalue) = sm.proportion.proportions_ztest(\n",
    "    count=df_bank['Jumlah Pemakai'].loc[df_bank['Bank'] == 'Bank BCA'], \n",
    "    nobs=df_bank['Jumlah Pemakai'].sum(), \n",
    "    value=0.7, \n",
    "    alternative='smaller',\n",
    "    prop_var=0.7)\n",
    "print(f\"Z Score untuk proporsi pengguna layanan aktif Mobile Banking adalah {bank_bca_zscore[0] : .4f}\")\n",
    "print(f\"P Value untuk proporsi pengguna layanan aktif Mobile Banking adalah {bank_bca_pvalue[0] : .4f}\")"
   ]
  },
  {
   "cell_type": "markdown",
   "metadata": {},
   "source": [
    "KESIMPULAN <br/>\n",
    "Karena P value < alpha, maka H0 ditolak (Proporsi Bank BCA < 70%)"
   ]
  },
  {
   "cell_type": "markdown",
   "metadata": {},
   "source": [
    "<hr/>"
   ]
  },
  {
   "cell_type": "markdown",
   "metadata": {},
   "source": [
    "### C."
   ]
  },
  {
   "cell_type": "markdown",
   "metadata": {},
   "source": [
    "Alpha = 5%"
   ]
  },
  {
   "cell_type": "markdown",
   "metadata": {},
   "source": [
    "H0 : Data Distribution = Uniform Distribution <br/>\n",
    "H1 : Data Distribution != Uniform Distribution"
   ]
  },
  {
   "cell_type": "markdown",
   "metadata": {},
   "source": [
    "<hr/>"
   ]
  },
  {
   "cell_type": "markdown",
   "metadata": {},
   "source": [
    "##### Variabel 1 : Goodness Of Fit Test untuk Penggunaan Layanan Aktif"
   ]
  },
  {
   "cell_type": "code",
   "execution_count": 126,
   "metadata": {},
   "outputs": [
    {
     "data": {
      "text/html": [
       "<div>\n",
       "<style scoped>\n",
       "    .dataframe tbody tr th:only-of-type {\n",
       "        vertical-align: middle;\n",
       "    }\n",
       "\n",
       "    .dataframe tbody tr th {\n",
       "        vertical-align: top;\n",
       "    }\n",
       "\n",
       "    .dataframe thead th {\n",
       "        text-align: right;\n",
       "    }\n",
       "</style>\n",
       "<table border=\"1\" class=\"dataframe\">\n",
       "  <thead>\n",
       "    <tr style=\"text-align: right;\">\n",
       "      <th></th>\n",
       "      <th>Jenis Layanan</th>\n",
       "      <th>Jumlah Pemakai</th>\n",
       "    </tr>\n",
       "  </thead>\n",
       "  <tbody>\n",
       "    <tr>\n",
       "      <th>0</th>\n",
       "      <td>Mobile Banking</td>\n",
       "      <td>239</td>\n",
       "    </tr>\n",
       "    <tr>\n",
       "      <th>1</th>\n",
       "      <td>ATM</td>\n",
       "      <td>160</td>\n",
       "    </tr>\n",
       "    <tr>\n",
       "      <th>2</th>\n",
       "      <td>Kartu Kredit</td>\n",
       "      <td>26</td>\n",
       "    </tr>\n",
       "    <tr>\n",
       "      <th>3</th>\n",
       "      <td>Internet Banking</td>\n",
       "      <td>63</td>\n",
       "    </tr>\n",
       "    <tr>\n",
       "      <th>4</th>\n",
       "      <td>Datang ke Kantor Cabang</td>\n",
       "      <td>18</td>\n",
       "    </tr>\n",
       "    <tr>\n",
       "      <th>5</th>\n",
       "      <td>SMS Banking</td>\n",
       "      <td>9</td>\n",
       "    </tr>\n",
       "  </tbody>\n",
       "</table>\n",
       "</div>"
      ],
      "text/plain": [
       "             Jenis Layanan  Jumlah Pemakai\n",
       "0           Mobile Banking             239\n",
       "1                      ATM             160\n",
       "2             Kartu Kredit              26\n",
       "3         Internet Banking              63\n",
       "4  Datang ke Kantor Cabang              18\n",
       "5              SMS Banking               9"
      ]
     },
     "execution_count": 126,
     "metadata": {},
     "output_type": "execute_result"
    }
   ],
   "source": [
    "df_layanan_aktif"
   ]
  },
  {
   "cell_type": "code",
   "execution_count": 127,
   "metadata": {},
   "outputs": [
    {
     "name": "stdout",
     "output_type": "stream",
     "text": [
      "[85.83333333333333, 85.83333333333333, 85.83333333333333, 85.83333333333333, 85.83333333333333, 85.83333333333333]\n"
     ]
    }
   ],
   "source": [
    "# Karena H0 : Data distribution = uniform distribution, dibuat uniform dataset berdasarkan mean yang didapat\n",
    "layanan_aktif_expected = [df_layanan_aktif['Jumlah Pemakai'].mean() for i in range(df_layanan_aktif['Jumlah Pemakai'].count())]\n",
    "print(layanan_aktif_expected)"
   ]
  },
  {
   "cell_type": "code",
   "execution_count": 128,
   "metadata": {},
   "outputs": [
    {
     "name": "stdout",
     "output_type": "stream",
     "text": [
      "Chi Squared Test Untuk Layanan Aktif :  507.5748\n",
      "P Value Untuk Layanan Aktif : 0.0000\n"
     ]
    }
   ],
   "source": [
    "layanan_aktif_chi_squared_test, layanan_aktif_p_value = st.chisquare(df_layanan_aktif['Jumlah Pemakai'],layanan_aktif_expected)\n",
    "print(f\"Chi Squared Test Untuk Layanan Aktif : {layanan_aktif_chi_squared_test : .4f}\")\n",
    "print(f\"P Value Untuk Layanan Aktif : {layanan_aktif_p_value :.4f}\")"
   ]
  },
  {
   "cell_type": "markdown",
   "metadata": {},
   "source": [
    "KESIMPULAN <br/>\n",
    "Karena P value < Alpha, maka H0 ditolak (Data tidak terdistribusi secara uniform)"
   ]
  },
  {
   "cell_type": "markdown",
   "metadata": {},
   "source": [
    "<hr/>"
   ]
  },
  {
   "cell_type": "markdown",
   "metadata": {},
   "source": [
    "##### Variabel 2 : Goodness Of Fit Test Untuk Bank"
   ]
  },
  {
   "cell_type": "code",
   "execution_count": 129,
   "metadata": {},
   "outputs": [
    {
     "data": {
      "text/html": [
       "<div>\n",
       "<style scoped>\n",
       "    .dataframe tbody tr th:only-of-type {\n",
       "        vertical-align: middle;\n",
       "    }\n",
       "\n",
       "    .dataframe tbody tr th {\n",
       "        vertical-align: top;\n",
       "    }\n",
       "\n",
       "    .dataframe thead th {\n",
       "        text-align: right;\n",
       "    }\n",
       "</style>\n",
       "<table border=\"1\" class=\"dataframe\">\n",
       "  <thead>\n",
       "    <tr style=\"text-align: right;\">\n",
       "      <th></th>\n",
       "      <th>Bank</th>\n",
       "      <th>Jumlah Pemakai</th>\n",
       "    </tr>\n",
       "  </thead>\n",
       "  <tbody>\n",
       "    <tr>\n",
       "      <th>0</th>\n",
       "      <td>Bank BNI</td>\n",
       "      <td>55</td>\n",
       "    </tr>\n",
       "    <tr>\n",
       "      <th>1</th>\n",
       "      <td>Bank Mandiri</td>\n",
       "      <td>82</td>\n",
       "    </tr>\n",
       "    <tr>\n",
       "      <th>2</th>\n",
       "      <td>Bank BCA</td>\n",
       "      <td>168</td>\n",
       "    </tr>\n",
       "    <tr>\n",
       "      <th>3</th>\n",
       "      <td>Bank CIMB Niaga</td>\n",
       "      <td>21</td>\n",
       "    </tr>\n",
       "    <tr>\n",
       "      <th>4</th>\n",
       "      <td>Bank BRI</td>\n",
       "      <td>61</td>\n",
       "    </tr>\n",
       "    <tr>\n",
       "      <th>5</th>\n",
       "      <td>Bank BTN</td>\n",
       "      <td>7</td>\n",
       "    </tr>\n",
       "    <tr>\n",
       "      <th>6</th>\n",
       "      <td>Bank Permata</td>\n",
       "      <td>9</td>\n",
       "    </tr>\n",
       "  </tbody>\n",
       "</table>\n",
       "</div>"
      ],
      "text/plain": [
       "              Bank  Jumlah Pemakai\n",
       "0         Bank BNI              55\n",
       "1     Bank Mandiri              82\n",
       "2         Bank BCA             168\n",
       "3  Bank CIMB Niaga              21\n",
       "4         Bank BRI              61\n",
       "5         Bank BTN               7\n",
       "6     Bank Permata               9"
      ]
     },
     "execution_count": 129,
     "metadata": {},
     "output_type": "execute_result"
    }
   ],
   "source": [
    "df_bank"
   ]
  },
  {
   "cell_type": "code",
   "execution_count": 130,
   "metadata": {},
   "outputs": [
    {
     "name": "stdout",
     "output_type": "stream",
     "text": [
      "[57.57142857142857, 57.57142857142857, 57.57142857142857, 57.57142857142857, 57.57142857142857, 57.57142857142857, 57.57142857142857]\n"
     ]
    }
   ],
   "source": [
    "# Expected value untuk uniform distribution\n",
    "bank_expected = [df_bank['Jumlah Pemakai'].mean() for i in range(df_bank['Jumlah Pemakai'].count())]\n",
    "print(bank_expected)"
   ]
  },
  {
   "cell_type": "code",
   "execution_count": 131,
   "metadata": {},
   "outputs": [
    {
     "name": "stdout",
     "output_type": "stream",
     "text": [
      "Chi Squared Test Untuk Layanan Aktif :  331.1315\n",
      "P Value Untuk Layanan Aktif : 0.0000\n"
     ]
    }
   ],
   "source": [
    "bank_chi_squared_test, bank_p_value = st.chisquare(df_bank['Jumlah Pemakai'],bank_expected)\n",
    "print(f\"Chi Squared Test Untuk Layanan Aktif : {bank_chi_squared_test : .4f}\")\n",
    "print(f\"P Value Untuk Layanan Aktif : {bank_p_value :.4f}\")"
   ]
  },
  {
   "cell_type": "markdown",
   "metadata": {},
   "source": [
    "KESIMPULAN <br/>\n",
    "Karena P value < Alpha, maka H0 ditolak (Data tidak terdistribusi secara uniform)"
   ]
  },
  {
   "cell_type": "markdown",
   "metadata": {},
   "source": [
    "<hr/>"
   ]
  },
  {
   "cell_type": "markdown",
   "metadata": {},
   "source": [
    "# Nomor 4"
   ]
  },
  {
   "cell_type": "markdown",
   "metadata": {},
   "source": [
    "### A."
   ]
  },
  {
   "cell_type": "markdown",
   "metadata": {},
   "source": [
    "<hr/>"
   ]
  },
  {
   "cell_type": "markdown",
   "metadata": {},
   "source": [
    "##### Variabel 1 : Proporsi Bank BCA - Proporsi Layanan Aktif Mobil Banking"
   ]
  },
  {
   "cell_type": "markdown",
   "metadata": {},
   "source": [
    "P1 : Proporsi Bank BCA <br/>\n",
    "P2 : Proporsi Layanan Aktif Mobile Banking"
   ]
  },
  {
   "cell_type": "code",
   "execution_count": 132,
   "metadata": {},
   "outputs": [
    {
     "data": {
      "text/html": [
       "<div>\n",
       "<style scoped>\n",
       "    .dataframe tbody tr th:only-of-type {\n",
       "        vertical-align: middle;\n",
       "    }\n",
       "\n",
       "    .dataframe tbody tr th {\n",
       "        vertical-align: top;\n",
       "    }\n",
       "\n",
       "    .dataframe thead th {\n",
       "        text-align: right;\n",
       "    }\n",
       "</style>\n",
       "<table border=\"1\" class=\"dataframe\">\n",
       "  <thead>\n",
       "    <tr style=\"text-align: right;\">\n",
       "      <th></th>\n",
       "      <th>Bank</th>\n",
       "      <th>Jumlah Pemakai</th>\n",
       "    </tr>\n",
       "  </thead>\n",
       "  <tbody>\n",
       "    <tr>\n",
       "      <th>0</th>\n",
       "      <td>Bank BNI</td>\n",
       "      <td>55</td>\n",
       "    </tr>\n",
       "    <tr>\n",
       "      <th>1</th>\n",
       "      <td>Bank Mandiri</td>\n",
       "      <td>82</td>\n",
       "    </tr>\n",
       "    <tr>\n",
       "      <th>2</th>\n",
       "      <td>Bank BCA</td>\n",
       "      <td>168</td>\n",
       "    </tr>\n",
       "    <tr>\n",
       "      <th>3</th>\n",
       "      <td>Bank CIMB Niaga</td>\n",
       "      <td>21</td>\n",
       "    </tr>\n",
       "    <tr>\n",
       "      <th>4</th>\n",
       "      <td>Bank BRI</td>\n",
       "      <td>61</td>\n",
       "    </tr>\n",
       "    <tr>\n",
       "      <th>5</th>\n",
       "      <td>Bank BTN</td>\n",
       "      <td>7</td>\n",
       "    </tr>\n",
       "    <tr>\n",
       "      <th>6</th>\n",
       "      <td>Bank Permata</td>\n",
       "      <td>9</td>\n",
       "    </tr>\n",
       "  </tbody>\n",
       "</table>\n",
       "</div>"
      ],
      "text/plain": [
       "              Bank  Jumlah Pemakai\n",
       "0         Bank BNI              55\n",
       "1     Bank Mandiri              82\n",
       "2         Bank BCA             168\n",
       "3  Bank CIMB Niaga              21\n",
       "4         Bank BRI              61\n",
       "5         Bank BTN               7\n",
       "6     Bank Permata               9"
      ]
     },
     "execution_count": 132,
     "metadata": {},
     "output_type": "execute_result"
    }
   ],
   "source": [
    "df_bank"
   ]
  },
  {
   "cell_type": "code",
   "execution_count": 133,
   "metadata": {},
   "outputs": [
    {
     "data": {
      "text/html": [
       "<div>\n",
       "<style scoped>\n",
       "    .dataframe tbody tr th:only-of-type {\n",
       "        vertical-align: middle;\n",
       "    }\n",
       "\n",
       "    .dataframe tbody tr th {\n",
       "        vertical-align: top;\n",
       "    }\n",
       "\n",
       "    .dataframe thead th {\n",
       "        text-align: right;\n",
       "    }\n",
       "</style>\n",
       "<table border=\"1\" class=\"dataframe\">\n",
       "  <thead>\n",
       "    <tr style=\"text-align: right;\">\n",
       "      <th></th>\n",
       "      <th>Jenis Layanan</th>\n",
       "      <th>Jumlah Pemakai</th>\n",
       "    </tr>\n",
       "  </thead>\n",
       "  <tbody>\n",
       "    <tr>\n",
       "      <th>0</th>\n",
       "      <td>Mobile Banking</td>\n",
       "      <td>239</td>\n",
       "    </tr>\n",
       "    <tr>\n",
       "      <th>1</th>\n",
       "      <td>ATM</td>\n",
       "      <td>160</td>\n",
       "    </tr>\n",
       "    <tr>\n",
       "      <th>2</th>\n",
       "      <td>Kartu Kredit</td>\n",
       "      <td>26</td>\n",
       "    </tr>\n",
       "    <tr>\n",
       "      <th>3</th>\n",
       "      <td>Internet Banking</td>\n",
       "      <td>63</td>\n",
       "    </tr>\n",
       "    <tr>\n",
       "      <th>4</th>\n",
       "      <td>Datang ke Kantor Cabang</td>\n",
       "      <td>18</td>\n",
       "    </tr>\n",
       "    <tr>\n",
       "      <th>5</th>\n",
       "      <td>SMS Banking</td>\n",
       "      <td>9</td>\n",
       "    </tr>\n",
       "  </tbody>\n",
       "</table>\n",
       "</div>"
      ],
      "text/plain": [
       "             Jenis Layanan  Jumlah Pemakai\n",
       "0           Mobile Banking             239\n",
       "1                      ATM             160\n",
       "2             Kartu Kredit              26\n",
       "3         Internet Banking              63\n",
       "4  Datang ke Kantor Cabang              18\n",
       "5              SMS Banking               9"
      ]
     },
     "execution_count": 133,
     "metadata": {},
     "output_type": "execute_result"
    }
   ],
   "source": [
    "df_layanan_aktif"
   ]
  },
  {
   "cell_type": "code",
   "execution_count": 134,
   "metadata": {},
   "outputs": [
    {
     "name": "stdout",
     "output_type": "stream",
     "text": [
      "Lower bound untuk PbankBCA - Pmobile Banking : -0.1118\n",
      "Upper bound untuk PbankBCA - Pmobile Banking :  0.0174\n"
     ]
    }
   ],
   "source": [
    "a4_prop_lb, a4_prop_ub = sm.proportion.confint_proportions_2indep(\n",
    "    count1=df_bank['Jumlah Pemakai'].loc[df_bank['Bank'] == 'Bank BCA'][2],\n",
    "    nobs1=df_bank['Jumlah Pemakai'].sum(),\n",
    "    count2=df_layanan_aktif['Jumlah Pemakai'].loc[df_layanan_aktif['Jenis Layanan'] == 'Mobile Banking'],\n",
    "    nobs2=df_layanan_aktif['Jumlah Pemakai'].sum(),\n",
    "    compare='diff', # p1 - p2\n",
    "    method='wald', # Normal Approximation\n",
    "    alpha=(1-0.95))\n",
    "print(f\"Lower bound untuk PbankBCA - Pmobile Banking : {a4_prop_lb[0] : .4f}\")\n",
    "print(f\"Upper bound untuk PbankBCA - Pmobile Banking : {a4_prop_ub[0] : .4f}\")"
   ]
  },
  {
   "cell_type": "markdown",
   "metadata": {},
   "source": [
    "<hr/>"
   ]
  },
  {
   "cell_type": "markdown",
   "metadata": {},
   "source": [
    "##### Variabel 2 : Proporsi Bank BCA - Proporsi Bank Mandiri"
   ]
  },
  {
   "cell_type": "markdown",
   "metadata": {},
   "source": [
    "P1 : Proporsi Bank BCA <br/>\n",
    "P2 : Proporsi Bank Mandiri"
   ]
  },
  {
   "cell_type": "code",
   "execution_count": 135,
   "metadata": {},
   "outputs": [
    {
     "data": {
      "text/html": [
       "<div>\n",
       "<style scoped>\n",
       "    .dataframe tbody tr th:only-of-type {\n",
       "        vertical-align: middle;\n",
       "    }\n",
       "\n",
       "    .dataframe tbody tr th {\n",
       "        vertical-align: top;\n",
       "    }\n",
       "\n",
       "    .dataframe thead th {\n",
       "        text-align: right;\n",
       "    }\n",
       "</style>\n",
       "<table border=\"1\" class=\"dataframe\">\n",
       "  <thead>\n",
       "    <tr style=\"text-align: right;\">\n",
       "      <th></th>\n",
       "      <th>Bank</th>\n",
       "      <th>Jumlah Pemakai</th>\n",
       "    </tr>\n",
       "  </thead>\n",
       "  <tbody>\n",
       "    <tr>\n",
       "      <th>0</th>\n",
       "      <td>Bank BNI</td>\n",
       "      <td>55</td>\n",
       "    </tr>\n",
       "    <tr>\n",
       "      <th>1</th>\n",
       "      <td>Bank Mandiri</td>\n",
       "      <td>82</td>\n",
       "    </tr>\n",
       "    <tr>\n",
       "      <th>2</th>\n",
       "      <td>Bank BCA</td>\n",
       "      <td>168</td>\n",
       "    </tr>\n",
       "    <tr>\n",
       "      <th>3</th>\n",
       "      <td>Bank CIMB Niaga</td>\n",
       "      <td>21</td>\n",
       "    </tr>\n",
       "    <tr>\n",
       "      <th>4</th>\n",
       "      <td>Bank BRI</td>\n",
       "      <td>61</td>\n",
       "    </tr>\n",
       "    <tr>\n",
       "      <th>5</th>\n",
       "      <td>Bank BTN</td>\n",
       "      <td>7</td>\n",
       "    </tr>\n",
       "    <tr>\n",
       "      <th>6</th>\n",
       "      <td>Bank Permata</td>\n",
       "      <td>9</td>\n",
       "    </tr>\n",
       "  </tbody>\n",
       "</table>\n",
       "</div>"
      ],
      "text/plain": [
       "              Bank  Jumlah Pemakai\n",
       "0         Bank BNI              55\n",
       "1     Bank Mandiri              82\n",
       "2         Bank BCA             168\n",
       "3  Bank CIMB Niaga              21\n",
       "4         Bank BRI              61\n",
       "5         Bank BTN               7\n",
       "6     Bank Permata               9"
      ]
     },
     "execution_count": 135,
     "metadata": {},
     "output_type": "execute_result"
    }
   ],
   "source": [
    "df_bank"
   ]
  },
  {
   "cell_type": "code",
   "execution_count": 136,
   "metadata": {},
   "outputs": [
    {
     "name": "stdout",
     "output_type": "stream",
     "text": [
      "Lower bound untuk PbankBCA - Pmobile Banking :  0.1513\n",
      "Upper bound untuk PbankBCA - Pmobile Banking :  0.2755\n"
     ]
    }
   ],
   "source": [
    "b4_prop_lb, b4_prop_ub = sm.proportion.confint_proportions_2indep(\n",
    "    count1=df_bank['Jumlah Pemakai'].loc[df_bank['Bank'] == 'Bank BCA'][2],\n",
    "    nobs1=df_bank['Jumlah Pemakai'].sum(),\n",
    "    count2=df_bank['Jumlah Pemakai'].loc[df_bank['Bank'] == 'Bank Mandiri'][1],\n",
    "    nobs2=df_bank['Jumlah Pemakai'].sum(),\n",
    "    compare='diff', # p1 - p2\n",
    "    method='wald', # Normal Approximation\n",
    "    alpha=(1-0.95))\n",
    "print(f\"Lower bound untuk PbankBCA - Pmobile Banking : {b4_prop_lb : .4f}\")\n",
    "print(f\"Upper bound untuk PbankBCA - Pmobile Banking : {b4_prop_ub : .4f}\")"
   ]
  },
  {
   "cell_type": "markdown",
   "metadata": {},
   "source": [
    "<hr/>"
   ]
  },
  {
   "cell_type": "markdown",
   "metadata": {},
   "source": [
    "##### Variabel 3 : Proporsi Mobile Banking - Proporsi ATM"
   ]
  },
  {
   "cell_type": "markdown",
   "metadata": {},
   "source": [
    "P1 : Proporsi Mobile Banking <br/>\n",
    "P2 : Proporsi ATM"
   ]
  },
  {
   "cell_type": "code",
   "execution_count": 137,
   "metadata": {},
   "outputs": [
    {
     "data": {
      "text/html": [
       "<div>\n",
       "<style scoped>\n",
       "    .dataframe tbody tr th:only-of-type {\n",
       "        vertical-align: middle;\n",
       "    }\n",
       "\n",
       "    .dataframe tbody tr th {\n",
       "        vertical-align: top;\n",
       "    }\n",
       "\n",
       "    .dataframe thead th {\n",
       "        text-align: right;\n",
       "    }\n",
       "</style>\n",
       "<table border=\"1\" class=\"dataframe\">\n",
       "  <thead>\n",
       "    <tr style=\"text-align: right;\">\n",
       "      <th></th>\n",
       "      <th>Jenis Layanan</th>\n",
       "      <th>Jumlah Pemakai</th>\n",
       "    </tr>\n",
       "  </thead>\n",
       "  <tbody>\n",
       "    <tr>\n",
       "      <th>0</th>\n",
       "      <td>Mobile Banking</td>\n",
       "      <td>239</td>\n",
       "    </tr>\n",
       "    <tr>\n",
       "      <th>1</th>\n",
       "      <td>ATM</td>\n",
       "      <td>160</td>\n",
       "    </tr>\n",
       "    <tr>\n",
       "      <th>2</th>\n",
       "      <td>Kartu Kredit</td>\n",
       "      <td>26</td>\n",
       "    </tr>\n",
       "    <tr>\n",
       "      <th>3</th>\n",
       "      <td>Internet Banking</td>\n",
       "      <td>63</td>\n",
       "    </tr>\n",
       "    <tr>\n",
       "      <th>4</th>\n",
       "      <td>Datang ke Kantor Cabang</td>\n",
       "      <td>18</td>\n",
       "    </tr>\n",
       "    <tr>\n",
       "      <th>5</th>\n",
       "      <td>SMS Banking</td>\n",
       "      <td>9</td>\n",
       "    </tr>\n",
       "  </tbody>\n",
       "</table>\n",
       "</div>"
      ],
      "text/plain": [
       "             Jenis Layanan  Jumlah Pemakai\n",
       "0           Mobile Banking             239\n",
       "1                      ATM             160\n",
       "2             Kartu Kredit              26\n",
       "3         Internet Banking              63\n",
       "4  Datang ke Kantor Cabang              18\n",
       "5              SMS Banking               9"
      ]
     },
     "execution_count": 137,
     "metadata": {},
     "output_type": "execute_result"
    }
   ],
   "source": [
    "df_layanan_aktif"
   ]
  },
  {
   "cell_type": "code",
   "execution_count": 138,
   "metadata": {},
   "outputs": [
    {
     "name": "stdout",
     "output_type": "stream",
     "text": [
      "Lower bound untuk PbankBCA - Pmobile Banking :  0.0946\n",
      "Upper bound untuk PbankBCA - Pmobile Banking :  0.2122\n"
     ]
    }
   ],
   "source": [
    "c4_prop_lb, c4_prop_ub = sm.proportion.confint_proportions_2indep(\n",
    "    count1=df_layanan_aktif['Jumlah Pemakai'].loc[df_layanan_aktif['Jenis Layanan'] == 'Mobile Banking'][0],\n",
    "    nobs1=df_layanan_aktif['Jumlah Pemakai'].sum(),\n",
    "    count2=df_layanan_aktif['Jumlah Pemakai'].loc[df_layanan_aktif['Jenis Layanan'] == 'ATM'][1],\n",
    "    nobs2=df_layanan_aktif['Jumlah Pemakai'].sum(),\n",
    "    compare='diff', # p1 - p2\n",
    "    method='wald', # Normal Approximation\n",
    "    alpha=(1-0.95))\n",
    "print(f\"Lower bound untuk PbankBCA - Pmobile Banking : {c4_prop_lb : .4f}\")\n",
    "print(f\"Upper bound untuk PbankBCA - Pmobile Banking : {c4_prop_ub : .4f}\")"
   ]
  },
  {
   "cell_type": "markdown",
   "metadata": {},
   "source": [
    "<hr/>"
   ]
  },
  {
   "cell_type": "markdown",
   "metadata": {},
   "source": [
    "### B."
   ]
  },
  {
   "cell_type": "markdown",
   "metadata": {},
   "source": [
    "Alpha = 5%"
   ]
  },
  {
   "cell_type": "markdown",
   "metadata": {},
   "source": [
    "<hr/>"
   ]
  },
  {
   "cell_type": "markdown",
   "metadata": {},
   "source": [
    "##### Variabel 1 : Proporsi Bank BCA - Proporsi Layanan Aktif Mobile Banking"
   ]
  },
  {
   "cell_type": "markdown",
   "metadata": {},
   "source": [
    "P1 : Proporsi Bank BCA <br/>\n",
    "P2 : Proporsi Layanan Aktif Mobile Banking"
   ]
  },
  {
   "cell_type": "markdown",
   "metadata": {},
   "source": [
    "H0 : P1 - P2 = 0.1<br/>\n",
    "H1 : P1 - P2 != 0.1"
   ]
  },
  {
   "cell_type": "code",
   "execution_count": 139,
   "metadata": {},
   "outputs": [
    {
     "name": "stdout",
     "output_type": "stream",
     "text": [
      "Z Score untuk Two Sample for Proportion Difference Proporsi Bank BCA - Proporsi Mobile Banking adalah -2.3659\n",
      "P Value untuk Two Sample for Proportion Difference Proporsi Bank BCA - Proporsi Mobile Banking adalah  0.0180\n"
     ]
    }
   ],
   "source": [
    "b1_zscore, b1_pvalue = sm.proportion.proportions_ztest(\n",
    "    count=[df_bank['Jumlah Pemakai'].loc[df_bank['Bank'] == 'Bank BCA'][2], df_layanan_aktif['Jumlah Pemakai'].loc[df_layanan_aktif['Jenis Layanan'] == 'Mobile Banking'][0]], \n",
    "    nobs= [df_bank['Jumlah Pemakai'].sum(), df_layanan_aktif['Jumlah Pemakai'].sum()], \n",
    "    alternative='two-sided',\n",
    "    prop_var=0.1)\n",
    "print(f\"Z Score untuk Two Sample for Proportion Difference Proporsi Bank BCA - Proporsi Mobile Banking adalah {b1_zscore : .4f}\")\n",
    "print(f\"P Value untuk Two Sample for Proportion Difference Proporsi Bank BCA - Proporsi Mobile Banking adalah {b1_pvalue : .4f}\")"
   ]
  },
  {
   "cell_type": "markdown",
   "metadata": {},
   "source": [
    "KESIMPULAN<br/>\n",
    "Karena P Value < alpha maka H0 di tolak (P1 - P2 != 0.1)"
   ]
  },
  {
   "cell_type": "markdown",
   "metadata": {},
   "source": [
    "<hr/>"
   ]
  },
  {
   "cell_type": "markdown",
   "metadata": {},
   "source": [
    "##### Variabel 2 : Proporsi Bank BCA - Proporsi Bank Mandiri"
   ]
  },
  {
   "cell_type": "markdown",
   "metadata": {},
   "source": [
    "P1 : Proporsi Bank BCA<br/>\n",
    "P2 : Proporsi Bank Mandiri"
   ]
  },
  {
   "cell_type": "markdown",
   "metadata": {},
   "source": [
    "H0 : P1 - P2 = 0.3 <br/>\n",
    "H1 : P1 - P2 < 0.3"
   ]
  },
  {
   "cell_type": "code",
   "execution_count": 140,
   "metadata": {},
   "outputs": [
    {
     "name": "stdout",
     "output_type": "stream",
     "text": [
      "Z Score untuk Two Sample for Proportion Difference Proporsi Bank BCA - Proporsi Bank Mandiri adalah  6.6103\n",
      "P Value untuk Two Sample for Proportion Difference Proporsi Bank BCA - Proporsi Bank Mandiri adalah  1.0000\n"
     ]
    }
   ],
   "source": [
    "b2_zscore, b2_pvalue = sm.proportion.proportions_ztest(\n",
    "    count=[df_bank['Jumlah Pemakai'].loc[df_bank['Bank'] == 'Bank BCA'][2], df_bank['Jumlah Pemakai'].loc[df_bank['Bank'] == 'Bank Mandiri'][1]], \n",
    "    nobs= [df_bank['Jumlah Pemakai'].sum(), df_bank['Jumlah Pemakai'].sum()], \n",
    "    alternative='smaller',\n",
    "    prop_var=0.3)\n",
    "print(f\"Z Score untuk Two Sample for Proportion Difference Proporsi Bank BCA - Proporsi Bank Mandiri adalah {b2_zscore : .4f}\")\n",
    "print(f\"P Value untuk Two Sample for Proportion Difference Proporsi Bank BCA - Proporsi Bank Mandiri adalah {b2_pvalue : .4f}\")"
   ]
  },
  {
   "cell_type": "markdown",
   "metadata": {},
   "source": [
    "KESIMPULAN<br/>\n",
    "Karena P Value > alpha maka H0 di gagal ditolak (P1 - P2 = 0.3)"
   ]
  },
  {
   "cell_type": "markdown",
   "metadata": {},
   "source": [
    "<hr/>"
   ]
  },
  {
   "cell_type": "markdown",
   "metadata": {},
   "source": [
    "##### Variabel 3 : Proporsi Mobile Banking - Proporsi ATM"
   ]
  },
  {
   "cell_type": "markdown",
   "metadata": {},
   "source": [
    "P1 : Proporsi Mobile Banking <br/>\n",
    "P2 : Proporsi ATM"
   ]
  },
  {
   "cell_type": "markdown",
   "metadata": {},
   "source": [
    "H0 : P1 - P2 = 0.2 <br/>\n",
    "H1 : P1 - P2 > 0.2"
   ]
  },
  {
   "cell_type": "code",
   "execution_count": 141,
   "metadata": {},
   "outputs": [
    {
     "name": "stdout",
     "output_type": "stream",
     "text": [
      "Z Score untuk Two Sample for Proportion Difference Proporsi Bank BCA - Proporsi Bank Mandiri adalah  6.1539\n",
      "P Value untuk Two Sample for Proportion Difference Proporsi Bank BCA - Proporsi Bank Mandiri adalah  0.0000\n"
     ]
    }
   ],
   "source": [
    "b3_zscore, b3_pvalue = sm.proportion.proportions_ztest(\n",
    "    count=[df_layanan_aktif['Jumlah Pemakai'].loc[df_layanan_aktif['Jenis Layanan'] == 'Mobile Banking'][0],df_layanan_aktif['Jumlah Pemakai'].loc[df_layanan_aktif['Jenis Layanan'] == 'ATM'][1]], \n",
    "    nobs= [df_layanan_aktif['Jumlah Pemakai'].sum(), df_layanan_aktif['Jumlah Pemakai'].sum()], \n",
    "    alternative='larger',\n",
    "    prop_var=0.2)\n",
    "print(f\"Z Score untuk Two Sample for Proportion Difference Proporsi Bank BCA - Proporsi Bank Mandiri adalah {b3_zscore : .4f}\")\n",
    "print(f\"P Value untuk Two Sample for Proportion Difference Proporsi Bank BCA - Proporsi Bank Mandiri adalah {b3_pvalue : .4f}\")"
   ]
  },
  {
   "cell_type": "markdown",
   "metadata": {},
   "source": [
    "KESIMPULAN<br/>\n",
    "Karena P Value < alpha maka H0 ditolak (P1 - P2 > 0.2)"
   ]
  },
  {
   "cell_type": "markdown",
   "metadata": {},
   "source": [
    "<hr/>"
   ]
  },
  {
   "cell_type": "markdown",
   "metadata": {},
   "source": [
    "### C."
   ]
  },
  {
   "cell_type": "markdown",
   "metadata": {},
   "source": [
    "H0 : Kedua variabel independen <br/>\n",
    "H1 : Kedua variabel bergantung satu sama lain"
   ]
  },
  {
   "cell_type": "markdown",
   "metadata": {},
   "source": [
    "Alpha = 5%"
   ]
  },
  {
   "cell_type": "markdown",
   "metadata": {},
   "source": [
    "<hr/>"
   ]
  },
  {
   "cell_type": "markdown",
   "metadata": {},
   "source": [
    "##### Variabel 1 : Independensi Antara Gender Terhadap Penggunaan Bank"
   ]
  },
  {
   "cell_type": "code",
   "execution_count": 142,
   "metadata": {},
   "outputs": [
    {
     "data": {
      "text/html": [
       "<div>\n",
       "<style scoped>\n",
       "    .dataframe tbody tr th:only-of-type {\n",
       "        vertical-align: middle;\n",
       "    }\n",
       "\n",
       "    .dataframe tbody tr th {\n",
       "        vertical-align: top;\n",
       "    }\n",
       "\n",
       "    .dataframe thead th {\n",
       "        text-align: right;\n",
       "    }\n",
       "</style>\n",
       "<table border=\"1\" class=\"dataframe\">\n",
       "  <thead>\n",
       "    <tr style=\"text-align: right;\">\n",
       "      <th>Gender</th>\n",
       "      <th>Pria</th>\n",
       "      <th>Wanita</th>\n",
       "    </tr>\n",
       "    <tr>\n",
       "      <th>Bank</th>\n",
       "      <th></th>\n",
       "      <th></th>\n",
       "    </tr>\n",
       "  </thead>\n",
       "  <tbody>\n",
       "    <tr>\n",
       "      <th>Bank BCA</th>\n",
       "      <td>70</td>\n",
       "      <td>98</td>\n",
       "    </tr>\n",
       "    <tr>\n",
       "      <th>Bank BNI</th>\n",
       "      <td>24</td>\n",
       "      <td>31</td>\n",
       "    </tr>\n",
       "    <tr>\n",
       "      <th>Bank BRI</th>\n",
       "      <td>26</td>\n",
       "      <td>35</td>\n",
       "    </tr>\n",
       "    <tr>\n",
       "      <th>Bank BTN</th>\n",
       "      <td>1</td>\n",
       "      <td>6</td>\n",
       "    </tr>\n",
       "    <tr>\n",
       "      <th>Bank CIMB Niaga</th>\n",
       "      <td>12</td>\n",
       "      <td>9</td>\n",
       "    </tr>\n",
       "    <tr>\n",
       "      <th>Bank Mandiri</th>\n",
       "      <td>31</td>\n",
       "      <td>51</td>\n",
       "    </tr>\n",
       "    <tr>\n",
       "      <th>Bank Permata</th>\n",
       "      <td>7</td>\n",
       "      <td>2</td>\n",
       "    </tr>\n",
       "  </tbody>\n",
       "</table>\n",
       "</div>"
      ],
      "text/plain": [
       "Gender           Pria  Wanita\n",
       "Bank                         \n",
       "Bank BCA           70      98\n",
       "Bank BNI           24      31\n",
       "Bank BRI           26      35\n",
       "Bank BTN            1       6\n",
       "Bank CIMB Niaga    12       9\n",
       "Bank Mandiri       31      51\n",
       "Bank Permata        7       2"
      ]
     },
     "execution_count": 142,
     "metadata": {},
     "output_type": "execute_result"
    }
   ],
   "source": [
    "# Membuat Dataframe untuk Bank Sesuai Dengan Gender Yang Menggunakan\n",
    "data_bank_gender = {\n",
    "    'Bank' : ['Bank BNI','Bank BNI', 'Bank Mandiri','Bank Mandiri', 'Bank BCA','Bank BCA','Bank CIMB Niaga','Bank CIMB Niaga','Bank BRI','Bank BRI','Bank BTN','Bank BTN','Bank Permata','Bank Permata'],\n",
    "    'Gender' : ['Pria', 'Wanita','Pria', 'Wanita','Pria', 'Wanita','Pria', 'Wanita','Pria', 'Wanita','Pria', 'Wanita','Pria', 'Wanita'],\n",
    "    'Value' : [\n",
    "        df['bank_1'].loc[df['Jenis Kelamin'] == 'Pria'].value_counts()['Bank BNI'], df['bank_1'].loc[df['Jenis Kelamin'] == 'Wanita'].value_counts()['Bank BNI'], \n",
    "        df['bank_2'].loc[df['Jenis Kelamin'] == 'Pria'].value_counts()['Bank Mandiri'], df['bank_2'].loc[df['Jenis Kelamin'] == 'Wanita'].value_counts()['Bank Mandiri'], \n",
    "        df['bank_3'].loc[df['Jenis Kelamin'] == 'Pria'].value_counts()['Bank BCA'], df['bank_3'].loc[df['Jenis Kelamin'] == 'Wanita'].value_counts()['Bank BCA'], \n",
    "        df['bank_4'].loc[df['Jenis Kelamin'] == 'Pria'].value_counts()['Bank CIMB Niaga'], df['bank_4'].loc[df['Jenis Kelamin'] == 'Wanita'].value_counts()['Bank CIMB Niaga'], \n",
    "        df['bank_5'].loc[df['Jenis Kelamin'] == 'Pria'].value_counts()['Bank BRI'], df['bank_5'].loc[df['Jenis Kelamin'] == 'Wanita'].value_counts()['Bank BRI'], \n",
    "        df['bank_6'].loc[df['Jenis Kelamin'] == 'Pria'].value_counts()['Bank BTN'], df['bank_6'].loc[df['Jenis Kelamin'] == 'Wanita'].value_counts()['Bank BTN'],  \n",
    "        df['bank_7'].loc[df['Jenis Kelamin'] == 'Pria'].value_counts()['Bank Permata'], df['bank_7'].loc[df['Jenis Kelamin'] == 'Wanita'].value_counts()['Bank Permata'] \n",
    "    ]\n",
    "}\n",
    "df_bank_gender = pd.DataFrame(data_bank_gender)\n",
    "df_bank_gender_crosstab = df_bank_gender.pivot(index='Bank',columns='Gender',values='Value')\n",
    "df_bank_gender_crosstab"
   ]
  },
  {
   "cell_type": "code",
   "execution_count": 143,
   "metadata": {},
   "outputs": [
    {
     "name": "stdout",
     "output_type": "stream",
     "text": [
      "Chi-Squared Test for Independence untuk Variabel Gender Terhadap Bank :  9.5263\n",
      "P Value for Independence untuk Variabel Gender Terhadap Bank :  0.1461\n"
     ]
    }
   ],
   "source": [
    "c1_chi2_test, c1_chi2_pvalue, c1_chi2_dof, c1_chi2_expected = st.chi2_contingency(df_bank_gender_crosstab)\n",
    "print(f\"Chi-Squared Test for Independence untuk Variabel Gender Terhadap Bank : {c1_chi2_test : .4f}\")\n",
    "print(f\"P Value for Independence untuk Variabel Gender Terhadap Bank : {c1_chi2_pvalue : .4f}\")"
   ]
  },
  {
   "cell_type": "markdown",
   "metadata": {},
   "source": [
    "KESIMPULAN <br/>\n",
    "Karena P Value > Alpha, H0 gagal ditolak (Hubungan dari gender terhadap pemilihan penggunaan bank adalah independen (tidak bergantung satu sama lain))"
   ]
  },
  {
   "cell_type": "markdown",
   "metadata": {},
   "source": [
    "<hr/>"
   ]
  },
  {
   "cell_type": "markdown",
   "metadata": {},
   "source": [
    "##### Variabel 2 : Independensi Antara Gender Terhadap Penggunaan Layanan Aktif"
   ]
  },
  {
   "cell_type": "code",
   "execution_count": 144,
   "metadata": {},
   "outputs": [
    {
     "data": {
      "text/html": [
       "<div>\n",
       "<style scoped>\n",
       "    .dataframe tbody tr th:only-of-type {\n",
       "        vertical-align: middle;\n",
       "    }\n",
       "\n",
       "    .dataframe tbody tr th {\n",
       "        vertical-align: top;\n",
       "    }\n",
       "\n",
       "    .dataframe thead th {\n",
       "        text-align: right;\n",
       "    }\n",
       "</style>\n",
       "<table border=\"1\" class=\"dataframe\">\n",
       "  <thead>\n",
       "    <tr style=\"text-align: right;\">\n",
       "      <th>Gender</th>\n",
       "      <th>Pria</th>\n",
       "      <th>Wanita</th>\n",
       "    </tr>\n",
       "    <tr>\n",
       "      <th>Bank</th>\n",
       "      <th></th>\n",
       "      <th></th>\n",
       "    </tr>\n",
       "  </thead>\n",
       "  <tbody>\n",
       "    <tr>\n",
       "      <th>ATM</th>\n",
       "      <td>72</td>\n",
       "      <td>88</td>\n",
       "    </tr>\n",
       "    <tr>\n",
       "      <th>Datang ke Kantor Cabang</th>\n",
       "      <td>5</td>\n",
       "      <td>13</td>\n",
       "    </tr>\n",
       "    <tr>\n",
       "      <th>Internet Banking</th>\n",
       "      <td>25</td>\n",
       "      <td>38</td>\n",
       "    </tr>\n",
       "    <tr>\n",
       "      <th>Kartu Kredit</th>\n",
       "      <td>15</td>\n",
       "      <td>11</td>\n",
       "    </tr>\n",
       "    <tr>\n",
       "      <th>Mobile Banking</th>\n",
       "      <td>109</td>\n",
       "      <td>130</td>\n",
       "    </tr>\n",
       "    <tr>\n",
       "      <th>SMS Banking</th>\n",
       "      <td>4</td>\n",
       "      <td>5</td>\n",
       "    </tr>\n",
       "  </tbody>\n",
       "</table>\n",
       "</div>"
      ],
      "text/plain": [
       "Gender                   Pria  Wanita\n",
       "Bank                                 \n",
       "ATM                        72      88\n",
       "Datang ke Kantor Cabang     5      13\n",
       "Internet Banking           25      38\n",
       "Kartu Kredit               15      11\n",
       "Mobile Banking            109     130\n",
       "SMS Banking                 4       5"
      ]
     },
     "execution_count": 144,
     "metadata": {},
     "output_type": "execute_result"
    }
   ],
   "source": [
    "# Membuat Dataframe untuk Layanan Aktif Sesuai Dengan Gender Yang Menggunakan\n",
    "data_layanan_gender = {\n",
    "    'Bank' : ['Mobile Banking','Mobile Banking', 'ATM','ATM', 'Kartu Kredit','Kartu Kredit','Internet Banking','Internet Banking','Datang ke Kantor Cabang','Datang ke Kantor Cabang','SMS Banking','SMS Banking'],\n",
    "    'Gender' : ['Pria', 'Wanita','Pria', 'Wanita','Pria', 'Wanita','Pria', 'Wanita','Pria', 'Wanita','Pria', 'Wanita'],\n",
    "    'Value' : [\n",
    "        df['layanan_aktif_1'].loc[df['Jenis Kelamin'] == 'Pria'].value_counts()['Mobile Banking'], df['layanan_aktif_1'].loc[df['Jenis Kelamin'] == 'Wanita'].value_counts()['Mobile Banking'], \n",
    "        df['layanan_aktif_2'].loc[df['Jenis Kelamin'] == 'Pria'].value_counts()['ATM'], df['layanan_aktif_2'].loc[df['Jenis Kelamin'] == 'Wanita'].value_counts()['ATM'], \n",
    "        df['layanan_aktif_3'].loc[df['Jenis Kelamin'] == 'Pria'].value_counts()['Kartu Kredit'], df['layanan_aktif_3'].loc[df['Jenis Kelamin'] == 'Wanita'].value_counts()['Kartu Kredit'], \n",
    "        df['layanan_aktif_4'].loc[df['Jenis Kelamin'] == 'Pria'].value_counts()['Internet Banking'], df['layanan_aktif_4'].loc[df['Jenis Kelamin'] == 'Wanita'].value_counts()['Internet Banking'], \n",
    "        df['layanan_aktif_5'].loc[df['Jenis Kelamin'] == 'Pria'].value_counts()['Datang ke Kantor Cabang'], df['layanan_aktif_5'].loc[df['Jenis Kelamin'] == 'Wanita'].value_counts()['Datang ke Kantor Cabang'], \n",
    "        df['layanan_aktif_6'].loc[df['Jenis Kelamin'] == 'Pria'].value_counts()['SMS Banking'], df['layanan_aktif_6'].loc[df['Jenis Kelamin'] == 'Wanita'].value_counts()['SMS Banking'] \n",
    "    ]\n",
    "}\n",
    "df_layanan_gender = pd.DataFrame(data_layanan_gender)\n",
    "\n",
    "# Membuat crosstab dari dataframe yang telah dibuat\n",
    "df_layanan_gender_crosstab = df_layanan_gender.pivot(index='Bank',columns='Gender',values='Value')\n",
    "df_layanan_gender_crosstab"
   ]
  },
  {
   "cell_type": "code",
   "execution_count": 145,
   "metadata": {},
   "outputs": [
    {
     "name": "stdout",
     "output_type": "stream",
     "text": [
      "Chi-Squared Test for Independence untuk Variabel Gender Terhadap Bank :  4.5883\n",
      "P Value for Independence untuk Variabel Gender Terhadap Bank :  0.4682\n"
     ]
    }
   ],
   "source": [
    "c2_chi2_test, c2_chi2_pvalue, c2_chi2_dof, c2_chi2_expected = st.chi2_contingency(df_layanan_gender_crosstab)\n",
    "print(f\"Chi-Squared Test for Independence untuk Variabel Gender Terhadap Bank : {c2_chi2_test : .4f}\")\n",
    "print(f\"P Value for Independence untuk Variabel Gender Terhadap Bank : {c2_chi2_pvalue : .4f}\")"
   ]
  },
  {
   "cell_type": "markdown",
   "metadata": {},
   "source": [
    "KESIMPULAN <br/>\n",
    "Karena P Value > Alpha, H0 gagal ditolak (Hubungan dari gender terhadap pemilihan penggunaan layanan aktif adalah independen (tidak bergantung satu sama lain))"
   ]
  },
  {
   "cell_type": "markdown",
   "metadata": {},
   "source": [
    "<hr/>"
   ]
  },
  {
   "cell_type": "markdown",
   "metadata": {},
   "source": [
    "### D."
   ]
  },
  {
   "cell_type": "markdown",
   "metadata": {},
   "source": [
    "H0 : Tidak ada perbedaan antara kedua variabel <br/>\n",
    "H1 : Ada perbedaan antara kedua variabel"
   ]
  },
  {
   "cell_type": "markdown",
   "metadata": {},
   "source": [
    "Alpha = 5%"
   ]
  },
  {
   "cell_type": "markdown",
   "metadata": {},
   "source": [
    "<hr/>"
   ]
  },
  {
   "cell_type": "markdown",
   "metadata": {},
   "source": [
    "##### Variabel 1 : Homogenitas antara Pendidikan Terakhir dan Penghasilan per Bulan"
   ]
  },
  {
   "cell_type": "code",
   "execution_count": 156,
   "metadata": {},
   "outputs": [
    {
     "data": {
      "text/html": [
       "<div>\n",
       "<style scoped>\n",
       "    .dataframe tbody tr th:only-of-type {\n",
       "        vertical-align: middle;\n",
       "    }\n",
       "\n",
       "    .dataframe tbody tr th {\n",
       "        vertical-align: top;\n",
       "    }\n",
       "\n",
       "    .dataframe thead th {\n",
       "        text-align: right;\n",
       "    }\n",
       "</style>\n",
       "<table border=\"1\" class=\"dataframe\">\n",
       "  <thead>\n",
       "    <tr style=\"text-align: right;\">\n",
       "      <th>Penghasilan per Bulan</th>\n",
       "      <th>&lt; Rp 2 juta</th>\n",
       "      <th>&gt; Rp 10 juta</th>\n",
       "      <th>Rp 2 juta – Rp 5 juta</th>\n",
       "      <th>Rp 5 juta – Rp 10 juta</th>\n",
       "    </tr>\n",
       "    <tr>\n",
       "      <th>Pendidikan Terakhir</th>\n",
       "      <th></th>\n",
       "      <th></th>\n",
       "      <th></th>\n",
       "      <th></th>\n",
       "    </tr>\n",
       "  </thead>\n",
       "  <tbody>\n",
       "    <tr>\n",
       "      <th>D3</th>\n",
       "      <td>2</td>\n",
       "      <td>5</td>\n",
       "      <td>1</td>\n",
       "      <td>6</td>\n",
       "    </tr>\n",
       "    <tr>\n",
       "      <th>D4</th>\n",
       "      <td>0</td>\n",
       "      <td>0</td>\n",
       "      <td>1</td>\n",
       "      <td>1</td>\n",
       "    </tr>\n",
       "    <tr>\n",
       "      <th>S1</th>\n",
       "      <td>21</td>\n",
       "      <td>41</td>\n",
       "      <td>10</td>\n",
       "      <td>20</td>\n",
       "    </tr>\n",
       "    <tr>\n",
       "      <th>S2</th>\n",
       "      <td>1</td>\n",
       "      <td>17</td>\n",
       "      <td>2</td>\n",
       "      <td>9</td>\n",
       "    </tr>\n",
       "    <tr>\n",
       "      <th>S3</th>\n",
       "      <td>0</td>\n",
       "      <td>1</td>\n",
       "      <td>0</td>\n",
       "      <td>0</td>\n",
       "    </tr>\n",
       "    <tr>\n",
       "      <th>SMA</th>\n",
       "      <td>107</td>\n",
       "      <td>2</td>\n",
       "      <td>25</td>\n",
       "      <td>7</td>\n",
       "    </tr>\n",
       "    <tr>\n",
       "      <th>SMK</th>\n",
       "      <td>1</td>\n",
       "      <td>0</td>\n",
       "      <td>0</td>\n",
       "      <td>0</td>\n",
       "    </tr>\n",
       "    <tr>\n",
       "      <th>SMP</th>\n",
       "      <td>3</td>\n",
       "      <td>0</td>\n",
       "      <td>0</td>\n",
       "      <td>0</td>\n",
       "    </tr>\n",
       "  </tbody>\n",
       "</table>\n",
       "</div>"
      ],
      "text/plain": [
       "Penghasilan per Bulan  < Rp 2 juta  > Rp 10 juta  Rp 2 juta – Rp 5 juta  \\\n",
       "Pendidikan Terakhir                                                       \n",
       "D3                               2             5                      1   \n",
       "D4                               0             0                      1   \n",
       "S1                              21            41                     10   \n",
       "S2                               1            17                      2   \n",
       "S3                               0             1                      0   \n",
       "SMA                            107             2                     25   \n",
       "SMK                              1             0                      0   \n",
       "SMP                              3             0                      0   \n",
       "\n",
       "Penghasilan per Bulan  Rp 5 juta – Rp 10 juta  \n",
       "Pendidikan Terakhir                            \n",
       "D3                                          6  \n",
       "D4                                          1  \n",
       "S1                                         20  \n",
       "S2                                          9  \n",
       "S3                                          0  \n",
       "SMA                                         7  \n",
       "SMK                                         0  \n",
       "SMP                                         0  "
      ]
     },
     "execution_count": 156,
     "metadata": {},
     "output_type": "execute_result"
    }
   ],
   "source": [
    "# Crosstab untuk Pendidikan Terakhir dan Penghasilan per Bulan\n",
    "df_pendidikan_penghasilan_crosstab = pd.crosstab(df['Pendidikan Terakhir'], df['Penghasilan per Bulan'])\n",
    "df_pendidikan_penghasilan_crosstab"
   ]
  },
  {
   "cell_type": "code",
   "execution_count": 155,
   "metadata": {},
   "outputs": [
    {
     "name": "stdout",
     "output_type": "stream",
     "text": [
      "Chi-Squared Test for Homogeneity untuk Variabel Pendidikan Terakhir terhadap Penghasilan per Bulan :  154.1641\n",
      "P Value for Homogeneity untuk Variabel Pendidikan Terakhir terhadap Penghasilan per Bulan :  0.0000\n"
     ]
    }
   ],
   "source": [
    "d1_chi2_test, d1_chi2_pvalue, d1_chi2_dof, d1_chi2_expected = st.chi2_contingency(df_pendidikan_penghasilan_crosstab)\n",
    "print(f\"Chi-Squared Test for Homogeneity untuk Variabel Pendidikan Terakhir terhadap Penghasilan per Bulan : {d1_chi2_test : .4f}\")\n",
    "print(f\"P Value for Homogeneity untuk Variabel Pendidikan Terakhir terhadap Penghasilan per Bulan : {d1_chi2_pvalue : .4f}\")"
   ]
  },
  {
   "cell_type": "markdown",
   "metadata": {},
   "source": [
    "KESIMPULAN <br/>\n",
    "Karena P Value < Alpha, H0 ditolak (Hubungan dari Pendidikan terakhir dan Penghasilan per Bulan tidak homogen)"
   ]
  },
  {
   "cell_type": "markdown",
   "metadata": {},
   "source": [
    "<hr/>"
   ]
  },
  {
   "cell_type": "markdown",
   "metadata": {},
   "source": [
    "##### Variabel 2 : Homogenitas antara Usia dan Peningkatan Aktivitas Online"
   ]
  },
  {
   "cell_type": "code",
   "execution_count": 157,
   "metadata": {},
   "outputs": [
    {
     "data": {
      "text/html": [
       "<div>\n",
       "<style scoped>\n",
       "    .dataframe tbody tr th:only-of-type {\n",
       "        vertical-align: middle;\n",
       "    }\n",
       "\n",
       "    .dataframe tbody tr th {\n",
       "        vertical-align: top;\n",
       "    }\n",
       "\n",
       "    .dataframe thead th {\n",
       "        text-align: right;\n",
       "    }\n",
       "</style>\n",
       "<table border=\"1\" class=\"dataframe\">\n",
       "  <thead>\n",
       "    <tr style=\"text-align: right;\">\n",
       "      <th>Aktivitas Online Meningkat</th>\n",
       "      <th>Sama saja</th>\n",
       "      <th>Tidak</th>\n",
       "      <th>Ya</th>\n",
       "    </tr>\n",
       "    <tr>\n",
       "      <th>Usia</th>\n",
       "      <th></th>\n",
       "      <th></th>\n",
       "      <th></th>\n",
       "    </tr>\n",
       "  </thead>\n",
       "  <tbody>\n",
       "    <tr>\n",
       "      <th>14</th>\n",
       "      <td>0</td>\n",
       "      <td>0</td>\n",
       "      <td>2</td>\n",
       "    </tr>\n",
       "    <tr>\n",
       "      <th>15</th>\n",
       "      <td>1</td>\n",
       "      <td>1</td>\n",
       "      <td>0</td>\n",
       "    </tr>\n",
       "    <tr>\n",
       "      <th>17</th>\n",
       "      <td>2</td>\n",
       "      <td>1</td>\n",
       "      <td>1</td>\n",
       "    </tr>\n",
       "    <tr>\n",
       "      <th>18</th>\n",
       "      <td>3</td>\n",
       "      <td>1</td>\n",
       "      <td>16</td>\n",
       "    </tr>\n",
       "    <tr>\n",
       "      <th>19</th>\n",
       "      <td>25</td>\n",
       "      <td>10</td>\n",
       "      <td>29</td>\n",
       "    </tr>\n",
       "    <tr>\n",
       "      <th>20</th>\n",
       "      <td>14</td>\n",
       "      <td>2</td>\n",
       "      <td>19</td>\n",
       "    </tr>\n",
       "    <tr>\n",
       "      <th>21</th>\n",
       "      <td>8</td>\n",
       "      <td>2</td>\n",
       "      <td>5</td>\n",
       "    </tr>\n",
       "    <tr>\n",
       "      <th>22</th>\n",
       "      <td>3</td>\n",
       "      <td>1</td>\n",
       "      <td>4</td>\n",
       "    </tr>\n",
       "    <tr>\n",
       "      <th>23</th>\n",
       "      <td>1</td>\n",
       "      <td>0</td>\n",
       "      <td>2</td>\n",
       "    </tr>\n",
       "    <tr>\n",
       "      <th>24</th>\n",
       "      <td>0</td>\n",
       "      <td>0</td>\n",
       "      <td>3</td>\n",
       "    </tr>\n",
       "    <tr>\n",
       "      <th>25</th>\n",
       "      <td>1</td>\n",
       "      <td>0</td>\n",
       "      <td>2</td>\n",
       "    </tr>\n",
       "    <tr>\n",
       "      <th>27</th>\n",
       "      <td>1</td>\n",
       "      <td>0</td>\n",
       "      <td>0</td>\n",
       "    </tr>\n",
       "    <tr>\n",
       "      <th>28</th>\n",
       "      <td>2</td>\n",
       "      <td>0</td>\n",
       "      <td>0</td>\n",
       "    </tr>\n",
       "    <tr>\n",
       "      <th>29</th>\n",
       "      <td>4</td>\n",
       "      <td>0</td>\n",
       "      <td>1</td>\n",
       "    </tr>\n",
       "    <tr>\n",
       "      <th>30</th>\n",
       "      <td>0</td>\n",
       "      <td>0</td>\n",
       "      <td>4</td>\n",
       "    </tr>\n",
       "    <tr>\n",
       "      <th>31</th>\n",
       "      <td>0</td>\n",
       "      <td>0</td>\n",
       "      <td>2</td>\n",
       "    </tr>\n",
       "    <tr>\n",
       "      <th>32</th>\n",
       "      <td>3</td>\n",
       "      <td>0</td>\n",
       "      <td>0</td>\n",
       "    </tr>\n",
       "    <tr>\n",
       "      <th>33</th>\n",
       "      <td>2</td>\n",
       "      <td>0</td>\n",
       "      <td>2</td>\n",
       "    </tr>\n",
       "    <tr>\n",
       "      <th>34</th>\n",
       "      <td>3</td>\n",
       "      <td>0</td>\n",
       "      <td>1</td>\n",
       "    </tr>\n",
       "    <tr>\n",
       "      <th>36</th>\n",
       "      <td>1</td>\n",
       "      <td>0</td>\n",
       "      <td>2</td>\n",
       "    </tr>\n",
       "    <tr>\n",
       "      <th>38</th>\n",
       "      <td>3</td>\n",
       "      <td>0</td>\n",
       "      <td>1</td>\n",
       "    </tr>\n",
       "    <tr>\n",
       "      <th>39</th>\n",
       "      <td>3</td>\n",
       "      <td>0</td>\n",
       "      <td>2</td>\n",
       "    </tr>\n",
       "    <tr>\n",
       "      <th>40</th>\n",
       "      <td>2</td>\n",
       "      <td>1</td>\n",
       "      <td>1</td>\n",
       "    </tr>\n",
       "    <tr>\n",
       "      <th>41</th>\n",
       "      <td>2</td>\n",
       "      <td>0</td>\n",
       "      <td>3</td>\n",
       "    </tr>\n",
       "    <tr>\n",
       "      <th>42</th>\n",
       "      <td>4</td>\n",
       "      <td>3</td>\n",
       "      <td>2</td>\n",
       "    </tr>\n",
       "    <tr>\n",
       "      <th>43</th>\n",
       "      <td>3</td>\n",
       "      <td>0</td>\n",
       "      <td>3</td>\n",
       "    </tr>\n",
       "    <tr>\n",
       "      <th>44</th>\n",
       "      <td>1</td>\n",
       "      <td>1</td>\n",
       "      <td>1</td>\n",
       "    </tr>\n",
       "    <tr>\n",
       "      <th>45</th>\n",
       "      <td>3</td>\n",
       "      <td>1</td>\n",
       "      <td>0</td>\n",
       "    </tr>\n",
       "    <tr>\n",
       "      <th>46</th>\n",
       "      <td>4</td>\n",
       "      <td>0</td>\n",
       "      <td>2</td>\n",
       "    </tr>\n",
       "    <tr>\n",
       "      <th>47</th>\n",
       "      <td>2</td>\n",
       "      <td>0</td>\n",
       "      <td>1</td>\n",
       "    </tr>\n",
       "    <tr>\n",
       "      <th>48</th>\n",
       "      <td>1</td>\n",
       "      <td>2</td>\n",
       "      <td>1</td>\n",
       "    </tr>\n",
       "    <tr>\n",
       "      <th>49</th>\n",
       "      <td>2</td>\n",
       "      <td>4</td>\n",
       "      <td>1</td>\n",
       "    </tr>\n",
       "    <tr>\n",
       "      <th>50</th>\n",
       "      <td>2</td>\n",
       "      <td>1</td>\n",
       "      <td>0</td>\n",
       "    </tr>\n",
       "    <tr>\n",
       "      <th>51</th>\n",
       "      <td>0</td>\n",
       "      <td>1</td>\n",
       "      <td>4</td>\n",
       "    </tr>\n",
       "    <tr>\n",
       "      <th>52</th>\n",
       "      <td>4</td>\n",
       "      <td>0</td>\n",
       "      <td>3</td>\n",
       "    </tr>\n",
       "    <tr>\n",
       "      <th>53</th>\n",
       "      <td>0</td>\n",
       "      <td>0</td>\n",
       "      <td>2</td>\n",
       "    </tr>\n",
       "    <tr>\n",
       "      <th>54</th>\n",
       "      <td>5</td>\n",
       "      <td>1</td>\n",
       "      <td>1</td>\n",
       "    </tr>\n",
       "    <tr>\n",
       "      <th>55</th>\n",
       "      <td>2</td>\n",
       "      <td>0</td>\n",
       "      <td>0</td>\n",
       "    </tr>\n",
       "    <tr>\n",
       "      <th>56</th>\n",
       "      <td>2</td>\n",
       "      <td>0</td>\n",
       "      <td>0</td>\n",
       "    </tr>\n",
       "    <tr>\n",
       "      <th>57</th>\n",
       "      <td>1</td>\n",
       "      <td>0</td>\n",
       "      <td>0</td>\n",
       "    </tr>\n",
       "    <tr>\n",
       "      <th>58</th>\n",
       "      <td>1</td>\n",
       "      <td>0</td>\n",
       "      <td>1</td>\n",
       "    </tr>\n",
       "    <tr>\n",
       "      <th>59</th>\n",
       "      <td>1</td>\n",
       "      <td>0</td>\n",
       "      <td>1</td>\n",
       "    </tr>\n",
       "    <tr>\n",
       "      <th>60</th>\n",
       "      <td>0</td>\n",
       "      <td>0</td>\n",
       "      <td>1</td>\n",
       "    </tr>\n",
       "    <tr>\n",
       "      <th>68</th>\n",
       "      <td>1</td>\n",
       "      <td>0</td>\n",
       "      <td>0</td>\n",
       "    </tr>\n",
       "    <tr>\n",
       "      <th>75</th>\n",
       "      <td>1</td>\n",
       "      <td>0</td>\n",
       "      <td>0</td>\n",
       "    </tr>\n",
       "  </tbody>\n",
       "</table>\n",
       "</div>"
      ],
      "text/plain": [
       "Aktivitas Online Meningkat  Sama saja  Tidak  Ya\n",
       "Usia                                            \n",
       "14                                  0      0   2\n",
       "15                                  1      1   0\n",
       "17                                  2      1   1\n",
       "18                                  3      1  16\n",
       "19                                 25     10  29\n",
       "20                                 14      2  19\n",
       "21                                  8      2   5\n",
       "22                                  3      1   4\n",
       "23                                  1      0   2\n",
       "24                                  0      0   3\n",
       "25                                  1      0   2\n",
       "27                                  1      0   0\n",
       "28                                  2      0   0\n",
       "29                                  4      0   1\n",
       "30                                  0      0   4\n",
       "31                                  0      0   2\n",
       "32                                  3      0   0\n",
       "33                                  2      0   2\n",
       "34                                  3      0   1\n",
       "36                                  1      0   2\n",
       "38                                  3      0   1\n",
       "39                                  3      0   2\n",
       "40                                  2      1   1\n",
       "41                                  2      0   3\n",
       "42                                  4      3   2\n",
       "43                                  3      0   3\n",
       "44                                  1      1   1\n",
       "45                                  3      1   0\n",
       "46                                  4      0   2\n",
       "47                                  2      0   1\n",
       "48                                  1      2   1\n",
       "49                                  2      4   1\n",
       "50                                  2      1   0\n",
       "51                                  0      1   4\n",
       "52                                  4      0   3\n",
       "53                                  0      0   2\n",
       "54                                  5      1   1\n",
       "55                                  2      0   0\n",
       "56                                  2      0   0\n",
       "57                                  1      0   0\n",
       "58                                  1      0   1\n",
       "59                                  1      0   1\n",
       "60                                  0      0   1\n",
       "68                                  1      0   0\n",
       "75                                  1      0   0"
      ]
     },
     "execution_count": 157,
     "metadata": {},
     "output_type": "execute_result"
    }
   ],
   "source": [
    "# Crosstab untuk Usia dan Peningkatan Aktivitas Online\n",
    "df_usia_aktivitasOnline_crosstab = pd.crosstab(df['Usia'], df['Aktivitas Online Meningkat'])\n",
    "df_usia_aktivitasOnline_crosstab"
   ]
  },
  {
   "cell_type": "code",
   "execution_count": 159,
   "metadata": {},
   "outputs": [
    {
     "name": "stdout",
     "output_type": "stream",
     "text": [
      "Chi-Squared Test for Homogeneity untuk Variabel Usia terhadap Aktivitas Online :  107.9791\n",
      "P Value for Homogeneity untuk Variabel Usia terhadap Aktivitas Online :  0.0729\n"
     ]
    }
   ],
   "source": [
    "d2_chi2_test, d2_chi2_pvalue, d2_chi2_dof, d2_chi2_expected = st.chi2_contingency(df_usia_aktivitasOnline_crosstab)\n",
    "print(f\"Chi-Squared Test for Homogeneity untuk Variabel Usia terhadap Aktivitas Online : {d2_chi2_test : .4f}\")\n",
    "print(f\"P Value for Homogeneity untuk Variabel Usia terhadap Aktivitas Online : {d2_chi2_pvalue : .4f}\")"
   ]
  },
  {
   "cell_type": "markdown",
   "metadata": {},
   "source": [
    "KESIMPULAN <br/>\n",
    "Karena P Value > Alpha, H0 gagal ditolak (Hubungan dari Usia dan Aktivitas Online Homogen)"
   ]
  },
  {
   "cell_type": "markdown",
   "metadata": {},
   "source": [
    "<hr/>"
   ]
  },
  {
   "cell_type": "markdown",
   "metadata": {},
   "source": [
    "# Nomor 5"
   ]
  },
  {
   "cell_type": "markdown",
   "metadata": {},
   "source": [
    "### Insight 1"
   ]
  },
  {
   "cell_type": "code",
   "execution_count": 163,
   "metadata": {},
   "outputs": [
    {
     "data": {
      "image/png": "[encoded data removed]",
      "text/plain": [
       "<Figure size 640x480 with 1 Axes>"
      ]
     },
     "metadata": {},
     "output_type": "display_data"
    }
   ],
   "source": [
    "pd.crosstab(df['Jenis Kelamin'], df['Pendidikan Terakhir']).plot(kind='bar')\n",
    "plt.show()\n"
   ]
  },
  {
   "cell_type": "code",
   "execution_count": 175,
   "metadata": {},
   "outputs": [
    {
     "data": {
      "image/png": "[encoded data removed]",
      "text/plain": [
       "<Figure size 640x480 with 1 Axes>"
      ]
     },
     "metadata": {},
     "output_type": "display_data"
    }
   ],
   "source": [
    "df['Grouped Age'].value_counts().plot(kind='bar')\n",
    "plt.title('Grafik Rentang Usia Dari Responden')\n",
    "plt.show()"
   ]
  },
  {
   "cell_type": "markdown",
   "metadata": {},
   "source": [
    "<p>Jumlah responden wanita lebih banyak dari responden pria pada sampel ini. Pada masing - masing responden juga, pendidikan terakhir paling banyak didapatkan yaitu SMA. Jika dilihat dari persebaran rentang usia responden, hal ini cukup normal karena mayoritas responden memiliki rentang usia dari 19 tahun - 23 tahun yang kebanyakkan usia tersebut adalah usia saat menduduki bangku kuliah.<p/>"
   ]
  },
  {
   "cell_type": "markdown",
   "metadata": {},
   "source": [
    "<hr/>"
   ]
  },
  {
   "cell_type": "markdown",
   "metadata": {},
   "source": [
    "### Insight 2"
   ]
  },
  {
   "cell_type": "code",
   "execution_count": 178,
   "metadata": {},
   "outputs": [
    {
     "data": {
      "text/html": [
       "<div>\n",
       "<style scoped>\n",
       "    .dataframe tbody tr th:only-of-type {\n",
       "        vertical-align: middle;\n",
       "    }\n",
       "\n",
       "    .dataframe tbody tr th {\n",
       "        vertical-align: top;\n",
       "    }\n",
       "\n",
       "    .dataframe thead th {\n",
       "        text-align: right;\n",
       "    }\n",
       "</style>\n",
       "<table border=\"1\" class=\"dataframe\">\n",
       "  <thead>\n",
       "    <tr style=\"text-align: right;\">\n",
       "      <th>Penghasilan per Bulan</th>\n",
       "      <th>&lt; Rp 2 juta</th>\n",
       "      <th>&gt; Rp 10 juta</th>\n",
       "      <th>Rp 2 juta – Rp 5 juta</th>\n",
       "      <th>Rp 5 juta – Rp 10 juta</th>\n",
       "    </tr>\n",
       "    <tr>\n",
       "      <th>Pekerjaan</th>\n",
       "      <th></th>\n",
       "      <th></th>\n",
       "      <th></th>\n",
       "      <th></th>\n",
       "    </tr>\n",
       "  </thead>\n",
       "  <tbody>\n",
       "    <tr>\n",
       "      <th>BUMD</th>\n",
       "      <td>0</td>\n",
       "      <td>0</td>\n",
       "      <td>0</td>\n",
       "      <td>2</td>\n",
       "    </tr>\n",
       "    <tr>\n",
       "      <th>Ibu Rumah Tangga</th>\n",
       "      <td>6</td>\n",
       "      <td>8</td>\n",
       "      <td>6</td>\n",
       "      <td>4</td>\n",
       "    </tr>\n",
       "    <tr>\n",
       "      <th>Karyawan BUMD</th>\n",
       "      <td>0</td>\n",
       "      <td>0</td>\n",
       "      <td>0</td>\n",
       "      <td>1</td>\n",
       "    </tr>\n",
       "    <tr>\n",
       "      <th>Karyawan BUMN</th>\n",
       "      <td>0</td>\n",
       "      <td>1</td>\n",
       "      <td>0</td>\n",
       "      <td>0</td>\n",
       "    </tr>\n",
       "    <tr>\n",
       "      <th>Karyawan Swasta</th>\n",
       "      <td>2</td>\n",
       "      <td>37</td>\n",
       "      <td>8</td>\n",
       "      <td>12</td>\n",
       "    </tr>\n",
       "    <tr>\n",
       "      <th>Pegawai BUMN</th>\n",
       "      <td>0</td>\n",
       "      <td>1</td>\n",
       "      <td>0</td>\n",
       "      <td>0</td>\n",
       "    </tr>\n",
       "    <tr>\n",
       "      <th>Pegawai Negeri</th>\n",
       "      <td>0</td>\n",
       "      <td>6</td>\n",
       "      <td>3</td>\n",
       "      <td>12</td>\n",
       "    </tr>\n",
       "    <tr>\n",
       "      <th>Pelajar / Mahasiswa</th>\n",
       "      <td>125</td>\n",
       "      <td>1</td>\n",
       "      <td>18</td>\n",
       "      <td>2</td>\n",
       "    </tr>\n",
       "    <tr>\n",
       "      <th>Peneliti</th>\n",
       "      <td>0</td>\n",
       "      <td>1</td>\n",
       "      <td>0</td>\n",
       "      <td>0</td>\n",
       "    </tr>\n",
       "    <tr>\n",
       "      <th>Pengusaha</th>\n",
       "      <td>0</td>\n",
       "      <td>6</td>\n",
       "      <td>0</td>\n",
       "      <td>5</td>\n",
       "    </tr>\n",
       "    <tr>\n",
       "      <th>Pensiun</th>\n",
       "      <td>0</td>\n",
       "      <td>0</td>\n",
       "      <td>1</td>\n",
       "      <td>0</td>\n",
       "    </tr>\n",
       "    <tr>\n",
       "      <th>Pensiunan</th>\n",
       "      <td>0</td>\n",
       "      <td>0</td>\n",
       "      <td>0</td>\n",
       "      <td>1</td>\n",
       "    </tr>\n",
       "    <tr>\n",
       "      <th>Pensiunan PNS</th>\n",
       "      <td>0</td>\n",
       "      <td>0</td>\n",
       "      <td>1</td>\n",
       "      <td>0</td>\n",
       "    </tr>\n",
       "    <tr>\n",
       "      <th>Pensiunan Swasta</th>\n",
       "      <td>0</td>\n",
       "      <td>0</td>\n",
       "      <td>0</td>\n",
       "      <td>1</td>\n",
       "    </tr>\n",
       "    <tr>\n",
       "      <th>Profesional ( Dokter, Dosen, Pengacara, dll)</th>\n",
       "      <td>1</td>\n",
       "      <td>5</td>\n",
       "      <td>1</td>\n",
       "      <td>2</td>\n",
       "    </tr>\n",
       "    <tr>\n",
       "      <th>Wiraswasta</th>\n",
       "      <td>0</td>\n",
       "      <td>0</td>\n",
       "      <td>1</td>\n",
       "      <td>1</td>\n",
       "    </tr>\n",
       "    <tr>\n",
       "      <th>belum bekerja</th>\n",
       "      <td>1</td>\n",
       "      <td>0</td>\n",
       "      <td>0</td>\n",
       "      <td>0</td>\n",
       "    </tr>\n",
       "  </tbody>\n",
       "</table>\n",
       "</div>"
      ],
      "text/plain": [
       "Penghasilan per Bulan                         < Rp 2 juta  > Rp 10 juta  \\\n",
       "Pekerjaan                                                                 \n",
       "BUMD                                                    0             0   \n",
       "Ibu Rumah Tangga                                        6             8   \n",
       "Karyawan BUMD                                           0             0   \n",
       "Karyawan BUMN                                           0             1   \n",
       "Karyawan Swasta                                         2            37   \n",
       "Pegawai BUMN                                            0             1   \n",
       "Pegawai Negeri                                          0             6   \n",
       "Pelajar / Mahasiswa                                   125             1   \n",
       "Peneliti                                                0             1   \n",
       "Pengusaha                                               0             6   \n",
       "Pensiun                                                 0             0   \n",
       "Pensiunan                                               0             0   \n",
       "Pensiunan PNS                                           0             0   \n",
       "Pensiunan Swasta                                        0             0   \n",
       "Profesional ( Dokter, Dosen, Pengacara, dll)            1             5   \n",
       "Wiraswasta                                              0             0   \n",
       "belum bekerja                                           1             0   \n",
       "\n",
       "Penghasilan per Bulan                         Rp 2 juta – Rp 5 juta  \\\n",
       "Pekerjaan                                                             \n",
       "BUMD                                                              0   \n",
       "Ibu Rumah Tangga                                                  6   \n",
       "Karyawan BUMD                                                     0   \n",
       "Karyawan BUMN                                                     0   \n",
       "Karyawan Swasta                                                   8   \n",
       "Pegawai BUMN                                                      0   \n",
       "Pegawai Negeri                                                    3   \n",
       "Pelajar / Mahasiswa                                              18   \n",
       "Peneliti                                                          0   \n",
       "Pengusaha                                                         0   \n",
       "Pensiun                                                           1   \n",
       "Pensiunan                                                         0   \n",
       "Pensiunan PNS                                                     1   \n",
       "Pensiunan Swasta                                                  0   \n",
       "Profesional ( Dokter, Dosen, Pengacara, dll)                      1   \n",
       "Wiraswasta                                                        1   \n",
       "belum bekerja                                                     0   \n",
       "\n",
       "Penghasilan per Bulan                         Rp 5 juta – Rp 10 juta  \n",
       "Pekerjaan                                                             \n",
       "BUMD                                                               2  \n",
       "Ibu Rumah Tangga                                                   4  \n",
       "Karyawan BUMD                                                      1  \n",
       "Karyawan BUMN                                                      0  \n",
       "Karyawan Swasta                                                   12  \n",
       "Pegawai BUMN                                                       0  \n",
       "Pegawai Negeri                                                    12  \n",
       "Pelajar / Mahasiswa                                                2  \n",
       "Peneliti                                                           0  \n",
       "Pengusaha                                                          5  \n",
       "Pensiun                                                            0  \n",
       "Pensiunan                                                          1  \n",
       "Pensiunan PNS                                                      0  \n",
       "Pensiunan Swasta                                                   1  \n",
       "Profesional ( Dokter, Dosen, Pengacara, dll)                       2  \n",
       "Wiraswasta                                                         1  \n",
       "belum bekerja                                                      0  "
      ]
     },
     "execution_count": 178,
     "metadata": {},
     "output_type": "execute_result"
    }
   ],
   "source": [
    "pd.crosstab(df['Pekerjaan'], df['Penghasilan per Bulan'])"
   ]
  },
  {
   "cell_type": "code",
   "execution_count": 177,
   "metadata": {},
   "outputs": [
    {
     "data": {
      "image/png": "[encoded data removed]",
      "text/plain": [
       "<Figure size 640x480 with 1 Axes>"
      ]
     },
     "metadata": {},
     "output_type": "display_data"
    }
   ],
   "source": [
    "pd.crosstab(df['Pekerjaan'], df['Penghasilan per Bulan']).plot(kind='bar')\n",
    "plt.show()"
   ]
  },
  {
   "cell_type": "markdown",
   "metadata": {},
   "source": [
    "<p>Mayoritas responden adalah pelajar/mahasiswa, dan belum bekerja untuk mencari uang. Dapat dilihat dari grafik dan tabel yang ada, pada grafik pelajar/mahasiswa, terdapat bar yang menjulang ke atas yang menunjukkan jumlah orang yang memiliki gaji kurang dari 2 juta. Responden terbanyak kedua datang dari orang yang memiliki usia lebih dari 30 tahun, yang seharusnya usia yang sudah bekerja. Jumlah terbanyak dalam gaji selanjutnya datang dari karyawan swasta yang memiliki gaji lebih dari 10 juta. Persebaran ini cukup wajar untuk didapatkan karena gaji yang didapatkan akan sesuai dengan pekerjaan yang dimiliki<p/>"
   ]
  },
  {
   "cell_type": "code",
   "execution_count": 181,
   "metadata": {},
   "outputs": [
    {
     "name": "stdout",
     "output_type": "stream",
     "text": [
      "Chi-Squared Test for Independence untuk Variabel Pekerjaan dan Penghasilan :  280.8351\n",
      "P Value for Independence untuk Variabel Pekerjaan dan Penghasilan :  0.0000\n"
     ]
    }
   ],
   "source": [
    "no5_2_chi2_test, no5_2_chi2_pvalue, no5_2_chi2_dof, no5_2_chi2_expected = st.chi2_contingency(pd.crosstab(df['Pekerjaan'], df['Penghasilan per Bulan']))\n",
    "print(f\"Chi-Squared Test for Independence untuk Variabel Pekerjaan dan Penghasilan : {no5_2_chi2_test : .4f}\")\n",
    "print(f\"P Value for Independence untuk Variabel Pekerjaan dan Penghasilan : {no5_2_chi2_pvalue : .4f}\")"
   ]
  },
  {
   "cell_type": "markdown",
   "metadata": {},
   "source": [
    "<p>Pada test chi-squared for independence, akan didapatkan nilai p-value berupa 0 sehingga dengan alpha sebesar 5%, p-value tersebut akan kurang dari alpha dan menunjukkan bahwa kedua variabel bergantung satu sama lain.<p/>"
   ]
  },
  {
   "cell_type": "markdown",
   "metadata": {},
   "source": [
    "<hr/>"
   ]
  },
  {
   "cell_type": "markdown",
   "metadata": {},
   "source": [
    "### Insight 3"
   ]
  },
  {
   "cell_type": "code",
   "execution_count": 186,
   "metadata": {},
   "outputs": [
    {
     "data": {
      "image/png": "[encoded data removed]",
      "text/plain": [
       "<Figure size 640x480 with 1 Axes>"
      ]
     },
     "metadata": {},
     "output_type": "display_data"
    }
   ],
   "source": [
    "pd.crosstab(df['Aktivitas Online Meningkat'],df['Grouped Age']).plot(kind='bar')\n",
    "plt.show()"
   ]
  },
  {
   "cell_type": "markdown",
   "metadata": {},
   "source": [
    "<p>Mayoritas orang memiliki aktivitas online yang cukup meningkat pada berbagai rentang usia sesuai dengan grafik di atas, terutama pada rentang usia 19 - 23 tahun. Selain itu, juga banyak orang yang tidak memiliki peningkatan ataupun penurunan aktivitas online, sehingga menimbulkan 2 asumsi, yaitu aktivitas online sebelumnya telah cukup besar, ataupun aktivitas online sebelumnya emang tidak terlalu banyak. Jika dilihat dari record sebelumnya, yaitu semua hal menjadi online karena pandemi COVID-19, asumsi pertama akan memiliki peluang lebih besar untuk terjadi karena persekolahan dan kerja dilakukan secara daring pada masa itu.<p/>"
   ]
  },
  {
   "cell_type": "markdown",
   "metadata": {},
   "source": [
    "<hr/>"
   ]
  },
  {
   "cell_type": "markdown",
   "metadata": {},
   "source": [
    "### Insight 4"
   ]
  },
  {
   "cell_type": "code",
   "execution_count": 189,
   "metadata": {},
   "outputs": [
    {
     "data": {
      "text/plain": [
       "Aktivitas yang Meningkat dalam 3 Bulan Terakhir\n",
       "Akses media sosial                              47\n",
       "Streaming video/ film                           27\n",
       "Mengikuti kelas online                          22\n",
       "Berbelanja online                               20\n",
       "Melakukan video conference                      16\n",
       "Delivery Makanan                                 6\n",
       "Game online                                      4\n",
       "Melakukan konsultasi kesehatan secara online     2\n",
       "sama aja                                         1\n",
       "Bekerja                                          1\n",
       "Kebutuhan perusahaan                             1\n",
       "Menyelesaikan Pekerjaan                          1\n",
       "Kerja                                            1\n",
       "belajar masak                                    1\n",
       "Pekerjaan                                        1\n",
       "Pekerjaan                                        1\n",
       "Mencari informasi                                1\n",
       "Monitor pekerjaan                                1\n",
       "Menonton e-sport                                 1\n",
       "Mencari jurnal di internet                       1\n",
       "Menonton berita                                  1\n",
       "Name: count, dtype: int64"
      ]
     },
     "execution_count": 189,
     "metadata": {},
     "output_type": "execute_result"
    }
   ],
   "source": [
    "df['Aktivitas yang Meningkat dalam 3 Bulan Terakhir'].value_counts()"
   ]
  },
  {
   "cell_type": "markdown",
   "metadata": {},
   "source": [
    "<p>Jumlah aktivitas online yang paling banyak meningkat dalam 3 bulan terakhir adalah aktivitas media sosial, dilanjutkan dengan streaming video/film, mengikuti kelas online, dan berbelanja online serta melakukan video conference, sesuai dengan tabel di atas.<p/>"
   ]
  },
  {
   "cell_type": "code",
   "execution_count": 190,
   "metadata": {},
   "outputs": [
    {
     "data": {
      "text/html": [
       "<div>\n",
       "<style scoped>\n",
       "    .dataframe tbody tr th:only-of-type {\n",
       "        vertical-align: middle;\n",
       "    }\n",
       "\n",
       "    .dataframe tbody tr th {\n",
       "        vertical-align: top;\n",
       "    }\n",
       "\n",
       "    .dataframe thead th {\n",
       "        text-align: right;\n",
       "    }\n",
       "</style>\n",
       "<table border=\"1\" class=\"dataframe\">\n",
       "  <thead>\n",
       "    <tr style=\"text-align: right;\">\n",
       "      <th>Grouped Age</th>\n",
       "      <th>Kurang dari 18</th>\n",
       "      <th>Antara 19 - 23</th>\n",
       "      <th>Antara 24 - 27</th>\n",
       "      <th>Antara 27 - 30</th>\n",
       "      <th>Lebih dari 30</th>\n",
       "    </tr>\n",
       "    <tr>\n",
       "      <th>Aktivitas yang Meningkat dalam 3 Bulan Terakhir</th>\n",
       "      <th></th>\n",
       "      <th></th>\n",
       "      <th></th>\n",
       "      <th></th>\n",
       "      <th></th>\n",
       "    </tr>\n",
       "  </thead>\n",
       "  <tbody>\n",
       "    <tr>\n",
       "      <th>Akses media sosial</th>\n",
       "      <td>8</td>\n",
       "      <td>26</td>\n",
       "      <td>1</td>\n",
       "      <td>1</td>\n",
       "      <td>11</td>\n",
       "    </tr>\n",
       "    <tr>\n",
       "      <th>Bekerja</th>\n",
       "      <td>0</td>\n",
       "      <td>0</td>\n",
       "      <td>1</td>\n",
       "      <td>0</td>\n",
       "      <td>0</td>\n",
       "    </tr>\n",
       "    <tr>\n",
       "      <th>Berbelanja online</th>\n",
       "      <td>0</td>\n",
       "      <td>8</td>\n",
       "      <td>3</td>\n",
       "      <td>1</td>\n",
       "      <td>8</td>\n",
       "    </tr>\n",
       "    <tr>\n",
       "      <th>Delivery Makanan</th>\n",
       "      <td>1</td>\n",
       "      <td>4</td>\n",
       "      <td>0</td>\n",
       "      <td>0</td>\n",
       "      <td>1</td>\n",
       "    </tr>\n",
       "    <tr>\n",
       "      <th>Game online</th>\n",
       "      <td>1</td>\n",
       "      <td>3</td>\n",
       "      <td>0</td>\n",
       "      <td>0</td>\n",
       "      <td>0</td>\n",
       "    </tr>\n",
       "    <tr>\n",
       "      <th>Kebutuhan perusahaan</th>\n",
       "      <td>0</td>\n",
       "      <td>0</td>\n",
       "      <td>0</td>\n",
       "      <td>0</td>\n",
       "      <td>1</td>\n",
       "    </tr>\n",
       "    <tr>\n",
       "      <th>Kerja</th>\n",
       "      <td>0</td>\n",
       "      <td>0</td>\n",
       "      <td>0</td>\n",
       "      <td>0</td>\n",
       "      <td>1</td>\n",
       "    </tr>\n",
       "    <tr>\n",
       "      <th>Melakukan konsultasi kesehatan secara online</th>\n",
       "      <td>0</td>\n",
       "      <td>0</td>\n",
       "      <td>0</td>\n",
       "      <td>0</td>\n",
       "      <td>2</td>\n",
       "    </tr>\n",
       "    <tr>\n",
       "      <th>Melakukan video conference</th>\n",
       "      <td>1</td>\n",
       "      <td>3</td>\n",
       "      <td>0</td>\n",
       "      <td>0</td>\n",
       "      <td>12</td>\n",
       "    </tr>\n",
       "    <tr>\n",
       "      <th>Mencari informasi</th>\n",
       "      <td>0</td>\n",
       "      <td>1</td>\n",
       "      <td>0</td>\n",
       "      <td>0</td>\n",
       "      <td>0</td>\n",
       "    </tr>\n",
       "    <tr>\n",
       "      <th>Mencari jurnal di internet</th>\n",
       "      <td>0</td>\n",
       "      <td>1</td>\n",
       "      <td>0</td>\n",
       "      <td>0</td>\n",
       "      <td>0</td>\n",
       "    </tr>\n",
       "    <tr>\n",
       "      <th>Mengikuti kelas online</th>\n",
       "      <td>6</td>\n",
       "      <td>11</td>\n",
       "      <td>0</td>\n",
       "      <td>1</td>\n",
       "      <td>4</td>\n",
       "    </tr>\n",
       "    <tr>\n",
       "      <th>Menonton berita</th>\n",
       "      <td>0</td>\n",
       "      <td>0</td>\n",
       "      <td>0</td>\n",
       "      <td>0</td>\n",
       "      <td>1</td>\n",
       "    </tr>\n",
       "    <tr>\n",
       "      <th>Menonton e-sport</th>\n",
       "      <td>0</td>\n",
       "      <td>1</td>\n",
       "      <td>0</td>\n",
       "      <td>0</td>\n",
       "      <td>0</td>\n",
       "    </tr>\n",
       "    <tr>\n",
       "      <th>Menyelesaikan Pekerjaan</th>\n",
       "      <td>0</td>\n",
       "      <td>0</td>\n",
       "      <td>0</td>\n",
       "      <td>0</td>\n",
       "      <td>1</td>\n",
       "    </tr>\n",
       "    <tr>\n",
       "      <th>Monitor pekerjaan</th>\n",
       "      <td>0</td>\n",
       "      <td>0</td>\n",
       "      <td>0</td>\n",
       "      <td>0</td>\n",
       "      <td>1</td>\n",
       "    </tr>\n",
       "    <tr>\n",
       "      <th>Pekerjaan</th>\n",
       "      <td>0</td>\n",
       "      <td>0</td>\n",
       "      <td>0</td>\n",
       "      <td>0</td>\n",
       "      <td>1</td>\n",
       "    </tr>\n",
       "    <tr>\n",
       "      <th>Pekerjaan</th>\n",
       "      <td>0</td>\n",
       "      <td>0</td>\n",
       "      <td>0</td>\n",
       "      <td>0</td>\n",
       "      <td>1</td>\n",
       "    </tr>\n",
       "    <tr>\n",
       "      <th>Streaming video/ film</th>\n",
       "      <td>2</td>\n",
       "      <td>16</td>\n",
       "      <td>0</td>\n",
       "      <td>3</td>\n",
       "      <td>6</td>\n",
       "    </tr>\n",
       "    <tr>\n",
       "      <th>belajar masak</th>\n",
       "      <td>0</td>\n",
       "      <td>0</td>\n",
       "      <td>0</td>\n",
       "      <td>0</td>\n",
       "      <td>1</td>\n",
       "    </tr>\n",
       "    <tr>\n",
       "      <th>sama aja</th>\n",
       "      <td>0</td>\n",
       "      <td>0</td>\n",
       "      <td>0</td>\n",
       "      <td>0</td>\n",
       "      <td>1</td>\n",
       "    </tr>\n",
       "  </tbody>\n",
       "</table>\n",
       "</div>"
      ],
      "text/plain": [
       "Grouped Age                                      Kurang dari 18  \\\n",
       "Aktivitas yang Meningkat dalam 3 Bulan Terakhir                   \n",
       "Akses media sosial                                            8   \n",
       "Bekerja                                                       0   \n",
       "Berbelanja online                                             0   \n",
       "Delivery Makanan                                              1   \n",
       "Game online                                                   1   \n",
       "Kebutuhan perusahaan                                          0   \n",
       "Kerja                                                         0   \n",
       "Melakukan konsultasi kesehatan secara online                  0   \n",
       "Melakukan video conference                                    1   \n",
       "Mencari informasi                                             0   \n",
       "Mencari jurnal di internet                                    0   \n",
       "Mengikuti kelas online                                        6   \n",
       "Menonton berita                                               0   \n",
       "Menonton e-sport                                              0   \n",
       "Menyelesaikan Pekerjaan                                       0   \n",
       "Monitor pekerjaan                                             0   \n",
       "Pekerjaan                                                     0   \n",
       "Pekerjaan                                                     0   \n",
       "Streaming video/ film                                         2   \n",
       "belajar masak                                                 0   \n",
       "sama aja                                                      0   \n",
       "\n",
       "Grouped Age                                      Antara 19 - 23  \\\n",
       "Aktivitas yang Meningkat dalam 3 Bulan Terakhir                   \n",
       "Akses media sosial                                           26   \n",
       "Bekerja                                                       0   \n",
       "Berbelanja online                                             8   \n",
       "Delivery Makanan                                              4   \n",
       "Game online                                                   3   \n",
       "Kebutuhan perusahaan                                          0   \n",
       "Kerja                                                         0   \n",
       "Melakukan konsultasi kesehatan secara online                  0   \n",
       "Melakukan video conference                                    3   \n",
       "Mencari informasi                                             1   \n",
       "Mencari jurnal di internet                                    1   \n",
       "Mengikuti kelas online                                       11   \n",
       "Menonton berita                                               0   \n",
       "Menonton e-sport                                              1   \n",
       "Menyelesaikan Pekerjaan                                       0   \n",
       "Monitor pekerjaan                                             0   \n",
       "Pekerjaan                                                     0   \n",
       "Pekerjaan                                                     0   \n",
       "Streaming video/ film                                        16   \n",
       "belajar masak                                                 0   \n",
       "sama aja                                                      0   \n",
       "\n",
       "Grouped Age                                      Antara 24 - 27  \\\n",
       "Aktivitas yang Meningkat dalam 3 Bulan Terakhir                   \n",
       "Akses media sosial                                            1   \n",
       "Bekerja                                                       1   \n",
       "Berbelanja online                                             3   \n",
       "Delivery Makanan                                              0   \n",
       "Game online                                                   0   \n",
       "Kebutuhan perusahaan                                          0   \n",
       "Kerja                                                         0   \n",
       "Melakukan konsultasi kesehatan secara online                  0   \n",
       "Melakukan video conference                                    0   \n",
       "Mencari informasi                                             0   \n",
       "Mencari jurnal di internet                                    0   \n",
       "Mengikuti kelas online                                        0   \n",
       "Menonton berita                                               0   \n",
       "Menonton e-sport                                              0   \n",
       "Menyelesaikan Pekerjaan                                       0   \n",
       "Monitor pekerjaan                                             0   \n",
       "Pekerjaan                                                     0   \n",
       "Pekerjaan                                                     0   \n",
       "Streaming video/ film                                         0   \n",
       "belajar masak                                                 0   \n",
       "sama aja                                                      0   \n",
       "\n",
       "Grouped Age                                      Antara 27 - 30  Lebih dari 30  \n",
       "Aktivitas yang Meningkat dalam 3 Bulan Terakhir                                 \n",
       "Akses media sosial                                            1             11  \n",
       "Bekerja                                                       0              0  \n",
       "Berbelanja online                                             1              8  \n",
       "Delivery Makanan                                              0              1  \n",
       "Game online                                                   0              0  \n",
       "Kebutuhan perusahaan                                          0              1  \n",
       "Kerja                                                         0              1  \n",
       "Melakukan konsultasi kesehatan secara online                  0              2  \n",
       "Melakukan video conference                                    0             12  \n",
       "Mencari informasi                                             0              0  \n",
       "Mencari jurnal di internet                                    0              0  \n",
       "Mengikuti kelas online                                        1              4  \n",
       "Menonton berita                                               0              1  \n",
       "Menonton e-sport                                              0              0  \n",
       "Menyelesaikan Pekerjaan                                       0              1  \n",
       "Monitor pekerjaan                                             0              1  \n",
       "Pekerjaan                                                     0              1  \n",
       "Pekerjaan                                                     0              1  \n",
       "Streaming video/ film                                         3              6  \n",
       "belajar masak                                                 0              1  \n",
       "sama aja                                                      0              1  "
      ]
     },
     "execution_count": 190,
     "metadata": {},
     "output_type": "execute_result"
    }
   ],
   "source": [
    "pd.crosstab(df['Aktivitas yang Meningkat dalam 3 Bulan Terakhir'], df['Grouped Age'])"
   ]
  },
  {
   "cell_type": "markdown",
   "metadata": {},
   "source": [
    "<p>Dapat dilihat bahwa peningkatan aktivitas online terbanyak terjadi pada responden dengan rentang usia 19 tahun - 23 tahun, terutama pada aktivitas media sosial. Selain itu, untuk responden yang memiliki umur lebih dari 30 tahun memiliki peningkatan melakukan video conference yang cukup banyak. Hal ini berhubungan dengan pandemi COVID - 19 yang telah dilalui, dengan banyaknya aktivitas pekerjaan dan persekolahan dilakukan secara daring.<p/>"
   ]
  },
  {
   "cell_type": "markdown",
   "metadata": {},
   "source": [
    "<hr/>"
   ]
  },
  {
   "cell_type": "markdown",
   "metadata": {},
   "source": [
    "### Insight 5"
   ]
  },
  {
   "cell_type": "code",
   "execution_count": 197,
   "metadata": {},
   "outputs": [
    {
     "data": {
      "text/html": [
       "<div>\n",
       "<style scoped>\n",
       "    .dataframe tbody tr th:only-of-type {\n",
       "        vertical-align: middle;\n",
       "    }\n",
       "\n",
       "    .dataframe tbody tr th {\n",
       "        vertical-align: top;\n",
       "    }\n",
       "\n",
       "    .dataframe thead th {\n",
       "        text-align: right;\n",
       "    }\n",
       "</style>\n",
       "<table border=\"1\" class=\"dataframe\">\n",
       "  <thead>\n",
       "    <tr style=\"text-align: right;\">\n",
       "      <th></th>\n",
       "      <th>Bank</th>\n",
       "      <th>Jumlah Pemakai</th>\n",
       "    </tr>\n",
       "  </thead>\n",
       "  <tbody>\n",
       "    <tr>\n",
       "      <th>2</th>\n",
       "      <td>Bank BCA</td>\n",
       "      <td>168</td>\n",
       "    </tr>\n",
       "    <tr>\n",
       "      <th>1</th>\n",
       "      <td>Bank Mandiri</td>\n",
       "      <td>82</td>\n",
       "    </tr>\n",
       "    <tr>\n",
       "      <th>4</th>\n",
       "      <td>Bank BRI</td>\n",
       "      <td>61</td>\n",
       "    </tr>\n",
       "    <tr>\n",
       "      <th>0</th>\n",
       "      <td>Bank BNI</td>\n",
       "      <td>55</td>\n",
       "    </tr>\n",
       "    <tr>\n",
       "      <th>3</th>\n",
       "      <td>Bank CIMB Niaga</td>\n",
       "      <td>21</td>\n",
       "    </tr>\n",
       "    <tr>\n",
       "      <th>6</th>\n",
       "      <td>Bank Permata</td>\n",
       "      <td>9</td>\n",
       "    </tr>\n",
       "    <tr>\n",
       "      <th>5</th>\n",
       "      <td>Bank BTN</td>\n",
       "      <td>7</td>\n",
       "    </tr>\n",
       "  </tbody>\n",
       "</table>\n",
       "</div>"
      ],
      "text/plain": [
       "              Bank  Jumlah Pemakai\n",
       "2         Bank BCA             168\n",
       "1     Bank Mandiri              82\n",
       "4         Bank BRI              61\n",
       "0         Bank BNI              55\n",
       "3  Bank CIMB Niaga              21\n",
       "6     Bank Permata               9\n",
       "5         Bank BTN               7"
      ]
     },
     "execution_count": 197,
     "metadata": {},
     "output_type": "execute_result"
    }
   ],
   "source": [
    "df_bank.sort_values(by='Jumlah Pemakai',ascending=False)"
   ]
  },
  {
   "cell_type": "markdown",
   "metadata": {},
   "source": [
    "<p>Jumlah bank terbanyak digunakan oleh responden pada sampel dataset ini dipegang oleh Bank BCA, yang memiliki lebih dari 2 kali lipat dari jumlah pemakai bank kedua yaitu Bank Mandiri. Untuk jumlah pemakai terbanyak ketiga, keempat, dan seterusnya memiliki rentang selisih yang mirip - mirip, dan tidak terlalu terlampau jauh satu sama lain<p/>"
   ]
  },
  {
   "cell_type": "markdown",
   "metadata": {},
   "source": [
    "<hr/>"
   ]
  },
  {
   "cell_type": "markdown",
   "metadata": {},
   "source": [
    "### Insight 6"
   ]
  },
  {
   "cell_type": "code",
   "execution_count": 199,
   "metadata": {},
   "outputs": [
    {
     "data": {
      "text/html": [
       "<div>\n",
       "<style scoped>\n",
       "    .dataframe tbody tr th:only-of-type {\n",
       "        vertical-align: middle;\n",
       "    }\n",
       "\n",
       "    .dataframe tbody tr th {\n",
       "        vertical-align: top;\n",
       "    }\n",
       "\n",
       "    .dataframe thead th {\n",
       "        text-align: right;\n",
       "    }\n",
       "</style>\n",
       "<table border=\"1\" class=\"dataframe\">\n",
       "  <thead>\n",
       "    <tr style=\"text-align: right;\">\n",
       "      <th></th>\n",
       "      <th>Jenis Layanan</th>\n",
       "      <th>Jumlah Pemakai</th>\n",
       "    </tr>\n",
       "  </thead>\n",
       "  <tbody>\n",
       "    <tr>\n",
       "      <th>0</th>\n",
       "      <td>Mobile Banking</td>\n",
       "      <td>239</td>\n",
       "    </tr>\n",
       "    <tr>\n",
       "      <th>1</th>\n",
       "      <td>ATM</td>\n",
       "      <td>160</td>\n",
       "    </tr>\n",
       "    <tr>\n",
       "      <th>3</th>\n",
       "      <td>Internet Banking</td>\n",
       "      <td>63</td>\n",
       "    </tr>\n",
       "    <tr>\n",
       "      <th>2</th>\n",
       "      <td>Kartu Kredit</td>\n",
       "      <td>26</td>\n",
       "    </tr>\n",
       "    <tr>\n",
       "      <th>4</th>\n",
       "      <td>Datang ke Kantor Cabang</td>\n",
       "      <td>18</td>\n",
       "    </tr>\n",
       "    <tr>\n",
       "      <th>5</th>\n",
       "      <td>SMS Banking</td>\n",
       "      <td>9</td>\n",
       "    </tr>\n",
       "  </tbody>\n",
       "</table>\n",
       "</div>"
      ],
      "text/plain": [
       "             Jenis Layanan  Jumlah Pemakai\n",
       "0           Mobile Banking             239\n",
       "1                      ATM             160\n",
       "3         Internet Banking              63\n",
       "2             Kartu Kredit              26\n",
       "4  Datang ke Kantor Cabang              18\n",
       "5              SMS Banking               9"
      ]
     },
     "execution_count": 199,
     "metadata": {},
     "output_type": "execute_result"
    }
   ],
   "source": [
    "df_layanan_aktif.sort_values(by='Jumlah Pemakai', ascending=False)"
   ]
  },
  {
   "cell_type": "markdown",
   "metadata": {},
   "source": [
    "<p>Jumlah Pemakai terbanyak dalam jenis layanan pada sampel ini adalah mobile banking, dengan jumlah sebanyak 239, dilanjutkan dengan ATM yang memiliki 160 pemakai. Untuk jumlah terbanyak ketiga dan seterusnya memiliki selisih yang cukup jauh dari jumlah terbanyak kedua dan pertama, tidak seperti Bank pada data sebelumnya, yang hanya Bank BCA memiliki pemakai terbanyak dibandingkan dengan bank lainnya.<p/>"
   ]
  },
  {
   "cell_type": "markdown",
   "metadata": {},
   "source": [
    "<hr/>"
   ]
  },
  {
   "cell_type": "markdown",
   "metadata": {},
   "source": [
    "### Insight 7"
   ]
  },
  {
   "cell_type": "code",
   "execution_count": 200,
   "metadata": {},
   "outputs": [
    {
     "data": {
      "text/plain": [
       "19. Manakah channel/ layanan yang lebih Anda sukai ketika Anda akan menggunakan fitur-fitur layanan perbankan berikut? [Cek Saldo ]\n",
       "Mobile Banking           189\n",
       "ATM                       26\n",
       "Internet Banking          26\n",
       "Datang ke cabang bank      1\n",
       "Name: count, dtype: int64"
      ]
     },
     "execution_count": 200,
     "metadata": {},
     "output_type": "execute_result"
    }
   ],
   "source": [
    "df['19. Manakah channel/ layanan yang lebih Anda sukai ketika Anda akan menggunakan fitur-fitur layanan perbankan berikut? [Cek Saldo ]'].value_counts()"
   ]
  },
  {
   "cell_type": "code",
   "execution_count": 201,
   "metadata": {},
   "outputs": [
    {
     "data": {
      "text/plain": [
       "19. Manakah channel/ layanan yang lebih Anda sukai ketika Anda akan menggunakan fitur-fitur layanan perbankan berikut? [Mutasi Rekening]\n",
       "Mobile Banking           153\n",
       "Internet Banking          30\n",
       "ATM                       10\n",
       "Datang ke cabang bank      8\n",
       "SMS Banking                1\n",
       "Name: count, dtype: int64"
      ]
     },
     "execution_count": 201,
     "metadata": {},
     "output_type": "execute_result"
    }
   ],
   "source": [
    "df['19. Manakah channel/ layanan yang lebih Anda sukai ketika Anda akan menggunakan fitur-fitur layanan perbankan berikut? [Mutasi Rekening]'].value_counts()"
   ]
  },
  {
   "cell_type": "code",
   "execution_count": 202,
   "metadata": {},
   "outputs": [
    {
     "data": {
      "text/plain": [
       "19. Manakah channel/ layanan yang lebih Anda sukai ketika Anda akan menggunakan fitur-fitur layanan perbankan berikut? [Pembayaran Tagihan]\n",
       "Mobile Banking           175\n",
       "Internet Banking          19\n",
       "ATM                       13\n",
       "SMS Banking                1\n",
       "Datang ke cabang bank      1\n",
       "Name: count, dtype: int64"
      ]
     },
     "execution_count": 202,
     "metadata": {},
     "output_type": "execute_result"
    }
   ],
   "source": [
    "df['19. Manakah channel/ layanan yang lebih Anda sukai ketika Anda akan menggunakan fitur-fitur layanan perbankan berikut? [Pembayaran Tagihan]'].value_counts()"
   ]
  },
  {
   "cell_type": "code",
   "execution_count": 203,
   "metadata": {},
   "outputs": [
    {
     "data": {
      "text/plain": [
       "19. Manakah channel/ layanan yang lebih Anda sukai ketika Anda akan menggunakan fitur-fitur layanan perbankan berikut? [Pembelian Pulsa, eMoney atau voucher-voucher lain]\n",
       "Mobile Banking      201\n",
       "Internet Banking     20\n",
       "ATM                   5\n",
       "SMS Banking           3\n",
       "Name: count, dtype: int64"
      ]
     },
     "execution_count": 203,
     "metadata": {},
     "output_type": "execute_result"
    }
   ],
   "source": [
    "df['19. Manakah channel/ layanan yang lebih Anda sukai ketika Anda akan menggunakan fitur-fitur layanan perbankan berikut? [Pembelian Pulsa, eMoney atau voucher-voucher lain]'].value_counts()"
   ]
  },
  {
   "cell_type": "code",
   "execution_count": 204,
   "metadata": {},
   "outputs": [
    {
     "data": {
      "text/plain": [
       "19. Manakah channel/ layanan yang lebih Anda sukai ketika Anda akan menggunakan fitur-fitur layanan perbankan berikut? [Transfer antar bank]\n",
       "Mobile Banking           194\n",
       "Internet Banking          29\n",
       "ATM                       12\n",
       "SMS Banking                2\n",
       "Datang ke cabang bank      2\n",
       "Name: count, dtype: int64"
      ]
     },
     "execution_count": 204,
     "metadata": {},
     "output_type": "execute_result"
    }
   ],
   "source": [
    "df['19. Manakah channel/ layanan yang lebih Anda sukai ketika Anda akan menggunakan fitur-fitur layanan perbankan berikut? [Transfer antar bank]'].value_counts()"
   ]
  },
  {
   "cell_type": "code",
   "execution_count": 205,
   "metadata": {},
   "outputs": [
    {
     "data": {
      "text/plain": [
       "19. Manakah channel/ layanan yang lebih Anda sukai ketika Anda akan menggunakan fitur-fitur layanan perbankan berikut? [Transfer antar rekening (sesama bank)]\n",
       "Mobile Banking      206\n",
       "Internet Banking     28\n",
       "ATM                  18\n",
       "SMS Banking           2\n",
       "Name: count, dtype: int64"
      ]
     },
     "execution_count": 205,
     "metadata": {},
     "output_type": "execute_result"
    }
   ],
   "source": [
    "df['19. Manakah channel/ layanan yang lebih Anda sukai ketika Anda akan menggunakan fitur-fitur layanan perbankan berikut? [Transfer antar rekening (sesama bank)]'].value_counts()"
   ]
  },
  {
   "cell_type": "markdown",
   "metadata": {},
   "source": [
    "<p>Dapat dilihat mobile banking menduduki peringkat paling banyak dalam melakukan berbagai aktivitas yang berhubungan dengan sistem perbankan sekarang dan memiliki selisih yang cukup jauh dengan jenis layanan lainnya, disamping dengan penggunaan ATM yang masih menduduki peringkat 2 dalam penggunaan layanan aktif. Hal ini cukup normal karena kemudahan yang ditawarkan oleh mobile banking, dan dapat diakses dengan mudah di mana saja menggunakan smartphone yang dimiliki oleh pengguna<p/>"
   ]
  },
  {
   "cell_type": "markdown",
   "metadata": {},
   "source": [
    "<hr/>"
   ]
  },
  {
   "cell_type": "markdown",
   "metadata": {},
   "source": [
    "### Insight 8"
   ]
  },
  {
   "cell_type": "code",
   "execution_count": 223,
   "metadata": {},
   "outputs": [
    {
     "data": {
      "text/html": [
       "<div>\n",
       "<style scoped>\n",
       "    .dataframe tbody tr th:only-of-type {\n",
       "        vertical-align: middle;\n",
       "    }\n",
       "\n",
       "    .dataframe tbody tr th {\n",
       "        vertical-align: top;\n",
       "    }\n",
       "\n",
       "    .dataframe thead th {\n",
       "        text-align: right;\n",
       "    }\n",
       "</style>\n",
       "<table border=\"1\" class=\"dataframe\">\n",
       "  <thead>\n",
       "    <tr style=\"text-align: right;\">\n",
       "      <th></th>\n",
       "      <th>E-Money</th>\n",
       "      <th>Jumlah Pemakai</th>\n",
       "    </tr>\n",
       "  </thead>\n",
       "  <tbody>\n",
       "    <tr>\n",
       "      <th>0</th>\n",
       "      <td>GoPay</td>\n",
       "      <td>227</td>\n",
       "    </tr>\n",
       "    <tr>\n",
       "      <th>2</th>\n",
       "      <td>OVO</td>\n",
       "      <td>166</td>\n",
       "    </tr>\n",
       "    <tr>\n",
       "      <th>1</th>\n",
       "      <td>ShopeePay</td>\n",
       "      <td>165</td>\n",
       "    </tr>\n",
       "    <tr>\n",
       "      <th>3</th>\n",
       "      <td>Dana</td>\n",
       "      <td>109</td>\n",
       "    </tr>\n",
       "    <tr>\n",
       "      <th>5</th>\n",
       "      <td>Flazz BCA</td>\n",
       "      <td>80</td>\n",
       "    </tr>\n",
       "    <tr>\n",
       "      <th>4</th>\n",
       "      <td>eMoney Mandiri</td>\n",
       "      <td>79</td>\n",
       "    </tr>\n",
       "    <tr>\n",
       "      <th>6</th>\n",
       "      <td>LinkAja</td>\n",
       "      <td>37</td>\n",
       "    </tr>\n",
       "    <tr>\n",
       "      <th>8</th>\n",
       "      <td>Brizzi</td>\n",
       "      <td>21</td>\n",
       "    </tr>\n",
       "    <tr>\n",
       "      <th>7</th>\n",
       "      <td>Tidak Menggunakan eMoney</td>\n",
       "      <td>20</td>\n",
       "    </tr>\n",
       "    <tr>\n",
       "      <th>9</th>\n",
       "      <td>JakCard</td>\n",
       "      <td>6</td>\n",
       "    </tr>\n",
       "    <tr>\n",
       "      <th>10</th>\n",
       "      <td>iSaku</td>\n",
       "      <td>4</td>\n",
       "    </tr>\n",
       "  </tbody>\n",
       "</table>\n",
       "</div>"
      ],
      "text/plain": [
       "                     E-Money  Jumlah Pemakai\n",
       "0                      GoPay             227\n",
       "2                        OVO             166\n",
       "1                  ShopeePay             165\n",
       "3                       Dana             109\n",
       "5                  Flazz BCA              80\n",
       "4             eMoney Mandiri              79\n",
       "6                    LinkAja              37\n",
       "8                     Brizzi              21\n",
       "7   Tidak Menggunakan eMoney              20\n",
       "9                    JakCard               6\n",
       "10                     iSaku               4"
      ]
     },
     "execution_count": 223,
     "metadata": {},
     "output_type": "execute_result"
    }
   ],
   "source": [
    "df_emoney = pd.DataFrame([['GoPay', df['emoney_pilihan_1'].value_counts()['GoPay']],\n",
    "                                 ['ShopeePay', df['emoney_pilihan_2'].value_counts()['ShopeePay']],\n",
    "                                 ['OVO',df['emoney_pilihan_3'].value_counts()['OVO']],\n",
    "                                 ['Dana',df['emoney_pilihan_4'].value_counts()['Dana']],\n",
    "                                 ['eMoney Mandiri',df['emoney_pilihan_5'].value_counts()['eMoney Mandiri']],\n",
    "                                 ['Flazz BCA', df['emoney_pilihan_6'].value_counts()['Flazz BCA']],\n",
    "                                 ['LinkAja', df['emoney_pilihan_7'].value_counts()['LinkAja']],\n",
    "                                 ['Tidak Menggunakan eMoney', df['emoney_pilihan_8'].value_counts()['Tidak Menggunakan eMoney']],\n",
    "                                 ['Brizzi', df['emoney_pilihan_9'].value_counts()['Brizzi']],\n",
    "                                 ['JakCard', df['emoney_pilihan_10'].value_counts()['JakCard']],\n",
    "                                 ['iSaku', df['emoney_pilihan_11'].value_counts()['iSaku']]\n",
    "                        ]\n",
    "                                 , columns=['E-Money', 'Jumlah Pemakai'])\n",
    "df_emoney.sort_values(by='Jumlah Pemakai',ascending=False)"
   ]
  },
  {
   "cell_type": "code",
   "execution_count": 226,
   "metadata": {},
   "outputs": [
    {
     "name": "stdout",
     "output_type": "stream",
     "text": [
      "Jumlah Responden : 283\n"
     ]
    }
   ],
   "source": [
    "print(\"Jumlah Responden :\",len(df))"
   ]
  },
  {
   "cell_type": "code",
   "execution_count": 224,
   "metadata": {},
   "outputs": [
    {
     "data": {
      "text/plain": [
       "914"
      ]
     },
     "execution_count": 224,
     "metadata": {},
     "output_type": "execute_result"
    }
   ],
   "source": [
    "df_emoney['Jumlah Pemakai'].sum()"
   ]
  },
  {
   "cell_type": "markdown",
   "metadata": {},
   "source": [
    "<p>Dapat terlihat bahwa pemakai layanan e-money terbanyak jatuh pada Gopay, dilanjutkan dengan OVO, Shopeepay, dan Dana. Responden pada sampel ini terbanyak pada rentang usia 19 tahun - 23 tahun, sehingga e-money seperti gopay dan yang lainnya sangatlah membantu dalam kemudahan untuk pengiriman uang ataupun pembayaran kepada restoran ataupun suatu layanan, seperti contoh pembayaran token listrik untuk kost - kost-an, pembelian pulsa dan kuota, ataupun semacamnya. Jika dibandingkan antara jumlah responden asli dengan jumlah pemakai e-money, terdapat rentang selisih yang cukup jauh sebesar 631 orang. Angka tersebut saja telah menunjukkan bahwa sekarang cukup banyak orang yang memiliki beragam jenis e-money untuk digunakan, sesuai dengan jenis layanan yang ingin digunakan. <p/>"
   ]
  },
  {
   "cell_type": "markdown",
   "metadata": {},
   "source": [
    "<hr/>"
   ]
  },
  {
   "cell_type": "markdown",
   "metadata": {},
   "source": [
    "### Insight 9"
   ]
  },
  {
   "cell_type": "code",
   "execution_count": 243,
   "metadata": {},
   "outputs": [
    {
     "data": {
      "text/html": [
       "<div>\n",
       "<style scoped>\n",
       "    .dataframe tbody tr th:only-of-type {\n",
       "        vertical-align: middle;\n",
       "    }\n",
       "\n",
       "    .dataframe tbody tr th {\n",
       "        vertical-align: top;\n",
       "    }\n",
       "\n",
       "    .dataframe thead th {\n",
       "        text-align: right;\n",
       "    }\n",
       "</style>\n",
       "<table border=\"1\" class=\"dataframe\">\n",
       "  <thead>\n",
       "    <tr style=\"text-align: right;\">\n",
       "      <th></th>\n",
       "      <th>Alasan</th>\n",
       "      <th>Jumlah</th>\n",
       "    </tr>\n",
       "  </thead>\n",
       "  <tbody>\n",
       "    <tr>\n",
       "      <th>0</th>\n",
       "      <td>Simple</td>\n",
       "      <td>211</td>\n",
       "    </tr>\n",
       "    <tr>\n",
       "      <th>1</th>\n",
       "      <td>Efisien secara waktu</td>\n",
       "      <td>193</td>\n",
       "    </tr>\n",
       "    <tr>\n",
       "      <th>2</th>\n",
       "      <td>Promo</td>\n",
       "      <td>149</td>\n",
       "    </tr>\n",
       "    <tr>\n",
       "      <th>3</th>\n",
       "      <td>Tidak perlu datang ke bank</td>\n",
       "      <td>125</td>\n",
       "    </tr>\n",
       "    <tr>\n",
       "      <th>4</th>\n",
       "      <td>Aman</td>\n",
       "      <td>93</td>\n",
       "    </tr>\n",
       "  </tbody>\n",
       "</table>\n",
       "</div>"
      ],
      "text/plain": [
       "                       Alasan  Jumlah\n",
       "0                      Simple     211\n",
       "1        Efisien secara waktu     193\n",
       "2                       Promo     149\n",
       "3  Tidak perlu datang ke bank     125\n",
       "4                        Aman      93"
      ]
     },
     "execution_count": 243,
     "metadata": {},
     "output_type": "execute_result"
    }
   ],
   "source": [
    "df_alasan_emoney = pd.DataFrame([['Simple', df['alasan_pakai_emoney_1'].value_counts()['Simple']],\n",
    "                                 ['Efisien secara waktu', df['alasan_pakai_emoney_2'].value_counts()['Efisien secara waktu']],\n",
    "                                 ['Promo',df['alasan_pakai_emoney_3'].value_counts()['Promo']],\n",
    "                                 ['Tidak perlu datang ke bank',df['alasan_pakai_emoney_4'].value_counts()['Tidak perlu datang ke bank']],\n",
    "                                 ['Aman',df['alasan_pakai_emoney_5'].value_counts()['Aman']]]\n",
    "                                 , columns=['Alasan', 'Jumlah'])\n",
    "df_alasan_emoney.sort_values(by='Jumlah',ascending=False)"
   ]
  },
  {
   "cell_type": "markdown",
   "metadata": {},
   "source": [
    "<p>Alasan penggunaan e-money sendiri cukup beragam, dapat dilihat pada tabel diatas, dengan persebaran yang cukup merata satu dengan yang lain, sehingga selisih jumlah tiap alasan tidak terlalu jauh. Untuk jaman sekarang, e - money sangat memudahkan dalam pengiriman uang ataupun pembayaran, sehingga pengguna tidak perlu lagi datang ke bank sesuai dengan alasan pada index ke 3 tabel di atas<p/>"
   ]
  },
  {
   "cell_type": "markdown",
   "metadata": {},
   "source": [
    "<hr/>"
   ]
  },
  {
   "cell_type": "markdown",
   "metadata": {},
   "source": [
    "### Insight 10"
   ]
  },
  {
   "cell_type": "code",
   "execution_count": 245,
   "metadata": {},
   "outputs": [
    {
     "data": {
      "text/html": [
       "<div>\n",
       "<style scoped>\n",
       "    .dataframe tbody tr th:only-of-type {\n",
       "        vertical-align: middle;\n",
       "    }\n",
       "\n",
       "    .dataframe tbody tr th {\n",
       "        vertical-align: top;\n",
       "    }\n",
       "\n",
       "    .dataframe thead th {\n",
       "        text-align: right;\n",
       "    }\n",
       "</style>\n",
       "<table border=\"1\" class=\"dataframe\">\n",
       "  <thead>\n",
       "    <tr style=\"text-align: right;\">\n",
       "      <th></th>\n",
       "      <th>Cara Top Up E-Money</th>\n",
       "      <th>Jumlah</th>\n",
       "    </tr>\n",
       "  </thead>\n",
       "  <tbody>\n",
       "    <tr>\n",
       "      <th>0</th>\n",
       "      <td>Mobile Banking</td>\n",
       "      <td>225</td>\n",
       "    </tr>\n",
       "    <tr>\n",
       "      <th>1</th>\n",
       "      <td>Top up di minimarket</td>\n",
       "      <td>54</td>\n",
       "    </tr>\n",
       "    <tr>\n",
       "      <th>2</th>\n",
       "      <td>ATM</td>\n",
       "      <td>52</td>\n",
       "    </tr>\n",
       "    <tr>\n",
       "      <th>3</th>\n",
       "      <td>Internet Banking</td>\n",
       "      <td>31</td>\n",
       "    </tr>\n",
       "    <tr>\n",
       "      <th>4</th>\n",
       "      <td>Melalui Driver</td>\n",
       "      <td>6</td>\n",
       "    </tr>\n",
       "    <tr>\n",
       "      <th>5</th>\n",
       "      <td>SMS Banking</td>\n",
       "      <td>3</td>\n",
       "    </tr>\n",
       "    <tr>\n",
       "      <th>6</th>\n",
       "      <td>Melalui loket PPOB</td>\n",
       "      <td>3</td>\n",
       "    </tr>\n",
       "  </tbody>\n",
       "</table>\n",
       "</div>"
      ],
      "text/plain": [
       "    Cara Top Up E-Money  Jumlah\n",
       "0        Mobile Banking     225\n",
       "1  Top up di minimarket      54\n",
       "2                   ATM      52\n",
       "3      Internet Banking      31\n",
       "4        Melalui Driver       6\n",
       "5           SMS Banking       3\n",
       "6    Melalui loket PPOB       3"
      ]
     },
     "execution_count": 245,
     "metadata": {},
     "output_type": "execute_result"
    }
   ],
   "source": [
    "df_topup_emoney = pd.DataFrame([['Mobile Banking', df['cara_topup_emoney_1'].value_counts()['Mobile Banking']],\n",
    "                                 ['Top up di minimarket', df['cara_topup_emoney_2'].value_counts()['Top up di minimarket']],\n",
    "                                 ['ATM',df['cara_topup_emoney_3'].value_counts()['ATM']],\n",
    "                                 ['Internet Banking',df['cara_topup_emoney_4'].value_counts()['Internet Banking']],\n",
    "                                 ['Melalui Driver',df['cara_topup_emoney_5'].value_counts()['Melalui Driver']],\n",
    "                                 ['SMS Banking', df['cara_topup_emoney_6'].value_counts()['SMS Banking']],\n",
    "                                 ['Melalui loket PPOB', df['cara_topup_emoney_7'].value_counts()['Melalui loket PPOB']]\n",
    "                        ]\n",
    "                                 , columns=['Cara Top Up E-Money', 'Jumlah'])\n",
    "df_topup_emoney.sort_values(by='Jumlah',ascending=False)"
   ]
  },
  {
   "cell_type": "markdown",
   "metadata": {},
   "source": [
    "<p>Dapat dilihat bahwa e-money dan mobile banking sangatlah mendukung satu sama lain, dengan top up e-money yang banyak dilakukan melalui mobile banking, sesuai dengan tabel di atas. Kedua hal tersebut sekarang dapat diakses di mana saja melalui smartphone yang dimiliki, sehingga sangat memberikan kemudahan bagi pengguna, tanpa harus pergi ke bank ataupun minimarket lagi.<p/>"
   ]
  },
  {
   "cell_type": "markdown",
   "metadata": {},
   "source": [
    "<hr/>"
   ]
  }
 ],
 "metadata": {
  "kernelspec": {
   "display_name": "Python 3",
   "language": "python",
   "name": "python3"
  },
  "language_info": {
   "codemirror_mode": {
    "name": "ipython",
    "version": 3
   },
   "file_extension": ".py",
   "mimetype": "text/x-python",
   "name": "python",
   "nbconvert_exporter": "python",
   "pygments_lexer": "ipython3",
   "version": "3.11.3"
  }
 },
 "nbformat": 4,
 "nbformat_minor": 2
}
